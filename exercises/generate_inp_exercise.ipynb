{
 "cells": [
  {
   "cell_type": "markdown",
   "metadata": {},
   "source": [
    "### Read through the doc on http://wateranalytics.org/EPANET/_inp_file.html \n"
   ]
  },
  {
   "cell_type": "markdown",
   "metadata": {},
   "source": [
    "### Question: what is EPANET? What is .inp file? What is the format of .inp file? What does each of the field mean? "
   ]
  },
  {
   "cell_type": "markdown",
   "metadata": {},
   "source": []
  },
  {
   "cell_type": "code",
   "execution_count": 1,
   "metadata": {},
   "outputs": [],
   "source": [
    "import pandas as pd\n",
    "import geopandas as gpd\n",
    "import os"
   ]
  },
  {
   "cell_type": "code",
   "execution_count": 2,
   "metadata": {},
   "outputs": [],
   "source": [
    "pz_name = 'central'\n",
    "pz_folder = '../data/processed_data/%s/'%(pz_name)"
   ]
  },
  {
   "cell_type": "code",
   "execution_count": 3,
   "metadata": {},
   "outputs": [
    {
     "data": {
      "text/html": [
       "<div>\n",
       "<style scoped>\n",
       "    .dataframe tbody tr th:only-of-type {\n",
       "        vertical-align: middle;\n",
       "    }\n",
       "\n",
       "    .dataframe tbody tr th {\n",
       "        vertical-align: top;\n",
       "    }\n",
       "\n",
       "    .dataframe thead th {\n",
       "        text-align: right;\n",
       "    }\n",
       "</style>\n",
       "<table border=\"1\" class=\"dataframe\">\n",
       "  <thead>\n",
       "    <tr style=\"text-align: right;\">\n",
       "      <th></th>\n",
       "      <th>pipe_id</th>\n",
       "      <th>node1</th>\n",
       "      <th>node2</th>\n",
       "      <th>length</th>\n",
       "      <th>material</th>\n",
       "      <th>diameter</th>\n",
       "      <th>age</th>\n",
       "      <th>C</th>\n",
       "      <th>geometry</th>\n",
       "    </tr>\n",
       "  </thead>\n",
       "  <tbody>\n",
       "    <tr>\n",
       "      <th>0</th>\n",
       "      <td>29634</td>\n",
       "      <td>28979</td>\n",
       "      <td>28980</td>\n",
       "      <td>9.600021</td>\n",
       "      <td>S</td>\n",
       "      <td>4.0</td>\n",
       "      <td>3.0</td>\n",
       "      <td>130</td>\n",
       "      <td>MULTILINESTRING ((-122.29932 37.80642, -122.29...</td>\n",
       "    </tr>\n",
       "    <tr>\n",
       "      <th>1</th>\n",
       "      <td>29636</td>\n",
       "      <td>28983</td>\n",
       "      <td>28984</td>\n",
       "      <td>3.424317</td>\n",
       "      <td>S</td>\n",
       "      <td>8.0</td>\n",
       "      <td>3.0</td>\n",
       "      <td>130</td>\n",
       "      <td>MULTILINESTRING ((-122.30236 37.80711, -122.30...</td>\n",
       "    </tr>\n",
       "    <tr>\n",
       "      <th>2</th>\n",
       "      <td>29638</td>\n",
       "      <td>28987</td>\n",
       "      <td>28988</td>\n",
       "      <td>2.813289</td>\n",
       "      <td>S</td>\n",
       "      <td>8.0</td>\n",
       "      <td>3.0</td>\n",
       "      <td>130</td>\n",
       "      <td>MULTILINESTRING ((-122.30086 37.80665, -122.30...</td>\n",
       "    </tr>\n",
       "    <tr>\n",
       "      <th>3</th>\n",
       "      <td>29639</td>\n",
       "      <td>28989</td>\n",
       "      <td>28990</td>\n",
       "      <td>133.184852</td>\n",
       "      <td>C</td>\n",
       "      <td>6.0</td>\n",
       "      <td>96.0</td>\n",
       "      <td>90</td>\n",
       "      <td>MULTILINESTRING ((-122.23116 37.77260, -122.23...</td>\n",
       "    </tr>\n",
       "    <tr>\n",
       "      <th>4</th>\n",
       "      <td>29640</td>\n",
       "      <td>28991</td>\n",
       "      <td>28992</td>\n",
       "      <td>4.147707</td>\n",
       "      <td>S</td>\n",
       "      <td>16.0</td>\n",
       "      <td>75.0</td>\n",
       "      <td>130</td>\n",
       "      <td>MULTILINESTRING ((-122.23001 37.78471, -122.23...</td>\n",
       "    </tr>\n",
       "  </tbody>\n",
       "</table>\n",
       "</div>"
      ],
      "text/plain": [
       "   pipe_id  node1  node2      length material  diameter   age    C  \\\n",
       "0    29634  28979  28980    9.600021        S       4.0   3.0  130   \n",
       "1    29636  28983  28984    3.424317        S       8.0   3.0  130   \n",
       "2    29638  28987  28988    2.813289        S       8.0   3.0  130   \n",
       "3    29639  28989  28990  133.184852        C       6.0  96.0   90   \n",
       "4    29640  28991  28992    4.147707        S      16.0  75.0  130   \n",
       "\n",
       "                                            geometry  \n",
       "0  MULTILINESTRING ((-122.29932 37.80642, -122.29...  \n",
       "1  MULTILINESTRING ((-122.30236 37.80711, -122.30...  \n",
       "2  MULTILINESTRING ((-122.30086 37.80665, -122.30...  \n",
       "3  MULTILINESTRING ((-122.23116 37.77260, -122.23...  \n",
       "4  MULTILINESTRING ((-122.23001 37.78471, -122.23...  "
      ]
     },
     "execution_count": 3,
     "metadata": {},
     "output_type": "execute_result"
    }
   ],
   "source": [
    "pipe_info = gpd.read_file(pz_folder+'connected_pipes.geojson')\n",
    "pipe_info.loc[(pipe_info.diameter == 0),'diameter']=1\n",
    "pipe_info.head()"
   ]
  },
  {
   "cell_type": "code",
   "execution_count": 4,
   "metadata": {},
   "outputs": [],
   "source": [
    "node_info = gpd.read_file(pz_folder+'connected_nodes.geojson')\n",
    "node_info['node_id'] = node_info['node_id'].astype('str')\n",
    "src_nodes = ['174995','39825','142594','64268','111865', '69939', '86038', '160935']   \n"
   ]
  },
  {
   "cell_type": "code",
   "execution_count": 5,
   "metadata": {},
   "outputs": [
    {
     "name": "stdout",
     "output_type": "stream",
     "text": [
      "60067\n",
      "60059\n"
     ]
    }
   ],
   "source": [
    "print (len(node_info))\n",
    "node_info = node_info[~node_info['node_id'].isin(src_nodes)]\n",
    "print (len(node_info))"
   ]
  },
  {
   "cell_type": "code",
   "execution_count": 6,
   "metadata": {},
   "outputs": [],
   "source": [
    "node_info['demand'] = node_info['MM_2018_gp']"
   ]
  },
  {
   "cell_type": "markdown",
   "metadata": {},
   "source": [
    "## Write .inp File "
   ]
  },
  {
   "cell_type": "code",
   "execution_count": 7,
   "metadata": {},
   "outputs": [],
   "source": [
    "from src.inp_parser import write_inp"
   ]
  },
  {
   "cell_type": "code",
   "execution_count": 8,
   "metadata": {},
   "outputs": [],
   "source": [
    "pids2close = []"
   ]
  },
  {
   "cell_type": "code",
   "execution_count": 9,
   "metadata": {},
   "outputs": [
    {
     "name": "stdout",
     "output_type": "stream",
     "text": [
      "Overwrite previous file\n",
      "Done!\n"
     ]
    }
   ],
   "source": [
    "file_path = pz_folder+pz_name+'.inp'\n",
    "write_inp(file_path,node_info,src_nodes,pipe_info,closing_pids = pids2close)"
   ]
  },
  {
   "cell_type": "code",
   "execution_count": null,
   "metadata": {},
   "outputs": [],
   "source": [
    "# Note, for the central region, simulation on the generated network wont converge. \n",
    "# Please manually add the following pipes to the .inp file \n",
    "# ADD-1\t\t  80990   103896   5   12   130   0   Open   ;\n",
    "# ADD-2\t\t  86812   103896   5   12   130   0   Open   ;\n",
    "# ADD-3\t\t  88870   42929   5   12   130   0   Open   ;\n",
    "# ADD-4\t\t  179806   113886   5   12   130   0   Open   ;\n",
    "# ADD-5\t\t  94816   179722   5   12   130   0   Open   ;"
   ]
  },
  {
   "cell_type": "markdown",
   "metadata": {},
   "source": [
    "### Question: create the .inp file for the study region you have chosen (use QGIS to choose some nodes as sources) "
   ]
  },
  {
   "cell_type": "code",
   "execution_count": null,
   "metadata": {},
   "outputs": [],
   "source": []
  }
 ],
 "metadata": {
  "kernelspec": {
   "display_name": "Python 3",
   "language": "python",
   "name": "python3"
  },
  "language_info": {
   "codemirror_mode": {
    "name": "ipython",
    "version": 3
   },
   "file_extension": ".py",
   "mimetype": "text/x-python",
   "name": "python",
   "nbconvert_exporter": "python",
   "pygments_lexer": "ipython3",
   "version": "3.7.10"
  }
 },
 "nbformat": 4,
 "nbformat_minor": 2
}

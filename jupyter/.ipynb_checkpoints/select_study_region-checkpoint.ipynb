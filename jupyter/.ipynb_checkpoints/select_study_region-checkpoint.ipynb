{
 "cells": [
  {
   "cell_type": "code",
   "execution_count": 1,
   "metadata": {},
   "outputs": [],
   "source": [
    "from src.select_pressure_zone import *\n",
    "import os"
   ]
  },
  {
   "cell_type": "markdown",
   "metadata": {},
   "source": [
    "# Read data"
   ]
  },
  {
   "cell_type": "code",
   "execution_count": 2,
   "metadata": {},
   "outputs": [],
   "source": [
    "pressure_zone_path = '../data/EBMUD-DATA/ebmud_pressure_zones.geojson'\n",
    "pressure_zones = gpd.read_file(pressure_zone_path)"
   ]
  },
  {
   "cell_type": "code",
   "execution_count": 3,
   "metadata": {},
   "outputs": [],
   "source": [
    "node_data = pd.read_csv('../data/processed_data/node_information.csv')\n",
    "pipe_path = '../data/processed_data/EBMUD_pipe_network.json'\n",
    "pipe_data = gpd.read_file(pipe_path)"
   ]
  },
  {
   "cell_type": "code",
   "execution_count": 4,
   "metadata": {},
   "outputs": [],
   "source": [
    "node_data = gpd.GeoDataFrame(\n",
    "    node_data, geometry=gpd.points_from_xy(node_data.longitude, node_data.latitude))"
   ]
  },
  {
   "cell_type": "markdown",
   "metadata": {},
   "source": [
    "# Select pipes from selected pressure zones"
   ]
  },
  {
   "cell_type": "code",
   "execution_count": 5,
   "metadata": {},
   "outputs": [
    {
     "name": "stderr",
     "output_type": "stream",
     "text": [
      "/home/rewu/anaconda3/lib/python3.7/site-packages/geopandas/geodataframe.py:1322: SettingWithCopyWarning: \n",
      "A value is trying to be set on a copy of a slice from a DataFrame.\n",
      "Try using .loc[row_indexer,col_indexer] = value instead\n",
      "\n",
      "See the caveats in the documentation: https://pandas.pydata.org/pandas-docs/stable/user_guide/indexing.html#returning-a-view-versus-a-copy\n",
      "  super(GeoDataFrame, self).__setitem__(key, value)\n"
     ]
    }
   ],
   "source": [
    "pressure_zone_code = [7, 67, 136, 167, 173, 175, 176, 180, 190, 229, 199, 202]\n",
    "pz_name = \"central\"\n",
    "pressure_zone = select_pressure_zone(pressure_zones,pressure_zone_code)"
   ]
  },
  {
   "cell_type": "code",
   "execution_count": null,
   "metadata": {},
   "outputs": [],
   "source": [
    "# get pipes \n",
    "pz_pipe_mask = pipe_data.intersects(pressure_zone.loc[1, 'geometry'])\n",
    "pz_pipes = pipe_data[pz_pipe_mask]\n"
   ]
  },
  {
   "cell_type": "code",
   "execution_count": null,
   "metadata": {},
   "outputs": [],
   "source": [
    "pz_pipes.head()"
   ]
  },
  {
   "cell_type": "code",
   "execution_count": null,
   "metadata": {},
   "outputs": [],
   "source": [
    "plot_geometries(pressure_zone['geometry'],pz_pipes['geometry'])"
   ]
  },
  {
   "cell_type": "code",
   "execution_count": null,
   "metadata": {},
   "outputs": [],
   "source": [
    "pipe_data_csv = pd.read_csv('../data/processed_data/pipe_information.csv')\n",
    "pz_pipes = pz_pipes.merge(pipe_data_csv,how='inner',on=['pipe_id'])"
   ]
  },
  {
   "cell_type": "code",
   "execution_count": null,
   "metadata": {},
   "outputs": [],
   "source": [
    "print (len(pz_pipes))\n",
    "pz_pipes.head()"
   ]
  },
  {
   "cell_type": "code",
   "execution_count": null,
   "metadata": {},
   "outputs": [],
   "source": [
    "pz_pipes['age'] = pz_pipes['age_x']"
   ]
  },
  {
   "cell_type": "code",
   "execution_count": null,
   "metadata": {},
   "outputs": [],
   "source": [
    "valid_column = [ 'pipe_id', 'geometry', 'node1', 'node2', 'length','material', 'diameter', 'age','C']\n",
    "pz_pipes_clean = pz_pipes[valid_column]"
   ]
  },
  {
   "cell_type": "code",
   "execution_count": null,
   "metadata": {},
   "outputs": [],
   "source": [
    "save_folder = \"../data/processed_data/\"+pz_name+\"/\"\n",
    "if not os.path.exists(save_folder):\n",
    "    print (\"save folder does not exist, create a new one\")\n",
    "    os.mkdir(save_folder)\n",
    "\n"
   ]
  },
  {
   "cell_type": "code",
   "execution_count": null,
   "metadata": {},
   "outputs": [],
   "source": [
    "save_path = save_folder+\"pipes.geojson\"\n",
    "pz_pipes_clean.to_file(save_path, driver=\"GeoJSON\")\n",
    "print (\"Pipe info saved to: \",save_path)"
   ]
  },
  {
   "cell_type": "markdown",
   "metadata": {},
   "source": [
    "## Remove isolated pipes"
   ]
  },
  {
   "cell_type": "code",
   "execution_count": null,
   "metadata": {},
   "outputs": [],
   "source": [
    "# again, central_isopipes.json is generated from the abandoned project, cityscape. \n",
    "# You can generate by yourself by running hydraulic simulation on the whole network\n",
    "# and find the pipes with no flow\n",
    "iso_pipe_info = gpd.read_file('../EBMUD_central_isopipes.json')"
   ]
  },
  {
   "cell_type": "code",
   "execution_count": null,
   "metadata": {},
   "outputs": [],
   "source": [
    "iso_pipe_ids = list(iso_pipe_info['pipe_id'])\n",
    "iso_pipe_ids = [pid.split('-')[1] for pid in iso_pipe_ids]\n"
   ]
  },
  {
   "cell_type": "code",
   "execution_count": null,
   "metadata": {},
   "outputs": [],
   "source": [
    "print (len(pz_pipes_clean))\n",
    "connected_pipes = pz_pipes_clean[~pz_pipes_clean['pipe_id'].isin(iso_pipe_ids)]\n",
    "print (len(connected_pipes))"
   ]
  },
  {
   "cell_type": "code",
   "execution_count": null,
   "metadata": {},
   "outputs": [],
   "source": [
    "save_path = save_folder+\"connected_pipes.geojson\"\n",
    "connected_pipes.to_file(save_path, driver=\"GeoJSON\")\n",
    "print (\"Pipe info (connected only) saved to: \",save_path)"
   ]
  },
  {
   "cell_type": "markdown",
   "metadata": {},
   "source": [
    "## Remove isolated nodes"
   ]
  },
  {
   "cell_type": "code",
   "execution_count": 62,
   "metadata": {},
   "outputs": [
    {
     "name": "stdout",
     "output_type": "stream",
     "text": [
      "61304 60067\n"
     ]
    }
   ],
   "source": [
    "valid_node_ids = set(list(connected_pipes['node1'])+list(connected_pipes['node2']))\n",
    "node_mask = pz_nodes['node_id'].astype('int').isin(valid_node_ids) \n",
    "connected_nodes = pz_nodes[node_mask]\n",
    "\n",
    "print(len(pz_nodes),len(connected_nodes))"
   ]
  },
  {
   "cell_type": "code",
   "execution_count": 63,
   "metadata": {},
   "outputs": [],
   "source": [
    "connected_nodes.to_file(save_folder+\"connected_nodes.geojson\", driver=\"GeoJSON\")"
   ]
  },
  {
   "cell_type": "code",
   "execution_count": null,
   "metadata": {},
   "outputs": [],
   "source": []
  }
 ],
 "metadata": {
  "kernelspec": {
   "display_name": "Python 3",
   "language": "python",
   "name": "python3"
  },
  "language_info": {
   "codemirror_mode": {
    "name": "ipython",
    "version": 3
   },
   "file_extension": ".py",
   "mimetype": "text/x-python",
   "name": "python",
   "nbconvert_exporter": "python",
   "pygments_lexer": "ipython3",
   "version": "3.7.10"
  }
 },
 "nbformat": 4,
 "nbformat_minor": 2
}

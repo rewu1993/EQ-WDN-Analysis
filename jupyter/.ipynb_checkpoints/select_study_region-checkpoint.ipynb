{
 "cells": [
  {
   "cell_type": "code",
   "execution_count": 1,
   "metadata": {},
   "outputs": [],
   "source": [
    "from src.select_pressure_zone import *\n",
    "import os"
   ]
  },
  {
   "cell_type": "markdown",
   "metadata": {},
   "source": [
    "# Read data"
   ]
  },
  {
   "cell_type": "code",
   "execution_count": 2,
   "metadata": {},
   "outputs": [],
   "source": [
    "pressure_zone_path = '../data/EBMUD-DATA/ebmud_pressure_zones.geojson'\n",
    "pressure_zones = gpd.read_file(pressure_zone_path)"
   ]
  },
  {
   "cell_type": "code",
   "execution_count": 3,
   "metadata": {},
   "outputs": [],
   "source": [
    "node_data = pd.read_csv('../data/processed_data/node_information.csv')\n",
    "pipe_path = '../data/processed_data/EBMUD_pipe_network.json'\n",
    "pipe_data = gpd.read_file(pipe_path)"
   ]
  },
  {
   "cell_type": "code",
   "execution_count": 4,
   "metadata": {},
   "outputs": [],
   "source": [
    "node_data = gpd.GeoDataFrame(\n",
    "    node_data, geometry=gpd.points_from_xy(node_data.longitude, node_data.latitude))"
   ]
  },
  {
   "cell_type": "markdown",
   "metadata": {},
   "source": [
    "# Select pipes from the chosen pressure zones"
   ]
  },
  {
   "cell_type": "code",
   "execution_count": 5,
   "metadata": {},
   "outputs": [
    {
     "name": "stderr",
     "output_type": "stream",
     "text": [
      "/home/rewu/anaconda3/lib/python3.7/site-packages/geopandas/geodataframe.py:1322: SettingWithCopyWarning: \n",
      "A value is trying to be set on a copy of a slice from a DataFrame.\n",
      "Try using .loc[row_indexer,col_indexer] = value instead\n",
      "\n",
      "See the caveats in the documentation: https://pandas.pydata.org/pandas-docs/stable/user_guide/indexing.html#returning-a-view-versus-a-copy\n",
      "  super(GeoDataFrame, self).__setitem__(key, value)\n"
     ]
    }
   ],
   "source": [
    "pressure_zone_code = [7, 67, 136, 167, 173, 175, 176, 180, 190, 229, 199, 202]\n",
    "pz_name = \"central\"\n",
    "pressure_zone = select_pressure_zone(pressure_zones,pressure_zone_code)"
   ]
  },
  {
   "cell_type": "code",
   "execution_count": 6,
   "metadata": {},
   "outputs": [],
   "source": [
    "# get pipes \n",
    "pz_pipe_mask = pipe_data.intersects(pressure_zone.loc[1, 'geometry'])\n",
    "pz_pipes = pipe_data[pz_pipe_mask]\n"
   ]
  },
  {
   "cell_type": "code",
   "execution_count": 7,
   "metadata": {},
   "outputs": [
    {
     "data": {
      "text/html": [
       "<div>\n",
       "<style scoped>\n",
       "    .dataframe tbody tr th:only-of-type {\n",
       "        vertical-align: middle;\n",
       "    }\n",
       "\n",
       "    .dataframe tbody tr th {\n",
       "        vertical-align: top;\n",
       "    }\n",
       "\n",
       "    .dataframe thead th {\n",
       "        text-align: right;\n",
       "    }\n",
       "</style>\n",
       "<table border=\"1\" class=\"dataframe\">\n",
       "  <thead>\n",
       "    <tr style=\"text-align: right;\">\n",
       "      <th></th>\n",
       "      <th>OBJECTID</th>\n",
       "      <th>ENABLED</th>\n",
       "      <th>FACILITYID</th>\n",
       "      <th>INSTALLDATE</th>\n",
       "      <th>STATUSCHANGEDATE</th>\n",
       "      <th>LIFECYCLESTATUS</th>\n",
       "      <th>WATERTYPE</th>\n",
       "      <th>MATERIALTYPE</th>\n",
       "      <th>MGE_MSLINK</th>\n",
       "      <th>LININGMATERIALTYPE</th>\n",
       "      <th>...</th>\n",
       "      <th>DISTANCETORW</th>\n",
       "      <th>VERTEXCOUNT</th>\n",
       "      <th>GEOGRAPHIC_FIDELITY</th>\n",
       "      <th>ISHIGHPRESSURE</th>\n",
       "      <th>ISRESTRAINEDJOINT</th>\n",
       "      <th>PRESPLIT_FACID</th>\n",
       "      <th>GLOBALID</th>\n",
       "      <th>SHAPE_Length</th>\n",
       "      <th>pipe_id</th>\n",
       "      <th>geometry</th>\n",
       "    </tr>\n",
       "  </thead>\n",
       "  <tbody>\n",
       "    <tr>\n",
       "      <th>29632</th>\n",
       "      <td>428201</td>\n",
       "      <td>1.0</td>\n",
       "      <td>1987379</td>\n",
       "      <td>None</td>\n",
       "      <td>2013-06-20T00:00:00</td>\n",
       "      <td>AB</td>\n",
       "      <td>Potable</td>\n",
       "      <td>S</td>\n",
       "      <td>NaN</td>\n",
       "      <td>M</td>\n",
       "      <td>...</td>\n",
       "      <td>None</td>\n",
       "      <td>6.0</td>\n",
       "      <td>Unknown</td>\n",
       "      <td>None</td>\n",
       "      <td>NaN</td>\n",
       "      <td>NaN</td>\n",
       "      <td>{A1495702-E2EE-4B89-BC3C-20B1EA63CEBD}</td>\n",
       "      <td>6.412698</td>\n",
       "      <td>29632</td>\n",
       "      <td>MULTILINESTRING ((-122.29060 37.84111, -122.29...</td>\n",
       "    </tr>\n",
       "    <tr>\n",
       "      <th>29633</th>\n",
       "      <td>428202</td>\n",
       "      <td>1.0</td>\n",
       "      <td>45011</td>\n",
       "      <td>None</td>\n",
       "      <td>1937-09-17T00:00:00</td>\n",
       "      <td>AB</td>\n",
       "      <td>Potable</td>\n",
       "      <td>C</td>\n",
       "      <td>2531630.0</td>\n",
       "      <td>U</td>\n",
       "      <td>...</td>\n",
       "      <td>None</td>\n",
       "      <td>12.0</td>\n",
       "      <td>Unknown</td>\n",
       "      <td>None</td>\n",
       "      <td>NaN</td>\n",
       "      <td>NaN</td>\n",
       "      <td>{2FCAE063-FE54-4FB2-8D84-1461B3B65AF3}</td>\n",
       "      <td>36.825647</td>\n",
       "      <td>29633</td>\n",
       "      <td>MULTILINESTRING ((-122.22740 37.78741, -122.22...</td>\n",
       "    </tr>\n",
       "    <tr>\n",
       "      <th>29634</th>\n",
       "      <td>428203</td>\n",
       "      <td>1.0</td>\n",
       "      <td>2054719</td>\n",
       "      <td>2017-11-22T00:00:00</td>\n",
       "      <td>None</td>\n",
       "      <td>AC</td>\n",
       "      <td>Potable</td>\n",
       "      <td>S</td>\n",
       "      <td>NaN</td>\n",
       "      <td>M</td>\n",
       "      <td>...</td>\n",
       "      <td>None</td>\n",
       "      <td>NaN</td>\n",
       "      <td>Unknown</td>\n",
       "      <td>None</td>\n",
       "      <td>NaN</td>\n",
       "      <td>NaN</td>\n",
       "      <td>{744F55EB-02B6-481F-B085-91337998750F}</td>\n",
       "      <td>9.600021</td>\n",
       "      <td>29634</td>\n",
       "      <td>MULTILINESTRING ((-122.29932 37.80642, -122.29...</td>\n",
       "    </tr>\n",
       "    <tr>\n",
       "      <th>29635</th>\n",
       "      <td>428204</td>\n",
       "      <td>1.0</td>\n",
       "      <td>2113429</td>\n",
       "      <td>None</td>\n",
       "      <td>1937-09-17T00:00:00</td>\n",
       "      <td>AB</td>\n",
       "      <td>Potable</td>\n",
       "      <td>C</td>\n",
       "      <td>NaN</td>\n",
       "      <td>U</td>\n",
       "      <td>...</td>\n",
       "      <td>None</td>\n",
       "      <td>15.0</td>\n",
       "      <td>Unknown</td>\n",
       "      <td>None</td>\n",
       "      <td>NaN</td>\n",
       "      <td>45014.0</td>\n",
       "      <td>{9185BC16-B46F-45AC-87DF-83570C3BB200}</td>\n",
       "      <td>6.634154</td>\n",
       "      <td>29635</td>\n",
       "      <td>MULTILINESTRING ((-122.22825 37.78663, -122.22...</td>\n",
       "    </tr>\n",
       "    <tr>\n",
       "      <th>29636</th>\n",
       "      <td>428205</td>\n",
       "      <td>1.0</td>\n",
       "      <td>2054606</td>\n",
       "      <td>2017-11-22T00:00:00</td>\n",
       "      <td>None</td>\n",
       "      <td>AC</td>\n",
       "      <td>Potable</td>\n",
       "      <td>S</td>\n",
       "      <td>NaN</td>\n",
       "      <td>M</td>\n",
       "      <td>...</td>\n",
       "      <td>None</td>\n",
       "      <td>NaN</td>\n",
       "      <td>Unknown</td>\n",
       "      <td>None</td>\n",
       "      <td>NaN</td>\n",
       "      <td>2054606.0</td>\n",
       "      <td>{CE51A95B-EAE1-4129-80AC-2B4B2CB2F6B3}</td>\n",
       "      <td>3.424317</td>\n",
       "      <td>29636</td>\n",
       "      <td>MULTILINESTRING ((-122.30236 37.80711, -122.30...</td>\n",
       "    </tr>\n",
       "  </tbody>\n",
       "</table>\n",
       "<p>5 rows × 53 columns</p>\n",
       "</div>"
      ],
      "text/plain": [
       "       OBJECTID  ENABLED  FACILITYID          INSTALLDATE  \\\n",
       "29632    428201      1.0     1987379                 None   \n",
       "29633    428202      1.0       45011                 None   \n",
       "29634    428203      1.0     2054719  2017-11-22T00:00:00   \n",
       "29635    428204      1.0     2113429                 None   \n",
       "29636    428205      1.0     2054606  2017-11-22T00:00:00   \n",
       "\n",
       "          STATUSCHANGEDATE LIFECYCLESTATUS WATERTYPE MATERIALTYPE  MGE_MSLINK  \\\n",
       "29632  2013-06-20T00:00:00              AB   Potable            S         NaN   \n",
       "29633  1937-09-17T00:00:00              AB   Potable            C   2531630.0   \n",
       "29634                 None              AC   Potable            S         NaN   \n",
       "29635  1937-09-17T00:00:00              AB   Potable            C         NaN   \n",
       "29636                 None              AC   Potable            S         NaN   \n",
       "\n",
       "      LININGMATERIALTYPE  ...  DISTANCETORW VERTEXCOUNT GEOGRAPHIC_FIDELITY  \\\n",
       "29632                  M  ...          None         6.0             Unknown   \n",
       "29633                  U  ...          None        12.0             Unknown   \n",
       "29634                  M  ...          None         NaN             Unknown   \n",
       "29635                  U  ...          None        15.0             Unknown   \n",
       "29636                  M  ...          None         NaN             Unknown   \n",
       "\n",
       "      ISHIGHPRESSURE ISRESTRAINEDJOINT  PRESPLIT_FACID  \\\n",
       "29632           None               NaN             NaN   \n",
       "29633           None               NaN             NaN   \n",
       "29634           None               NaN             NaN   \n",
       "29635           None               NaN         45014.0   \n",
       "29636           None               NaN       2054606.0   \n",
       "\n",
       "                                     GLOBALID SHAPE_Length  pipe_id  \\\n",
       "29632  {A1495702-E2EE-4B89-BC3C-20B1EA63CEBD}     6.412698    29632   \n",
       "29633  {2FCAE063-FE54-4FB2-8D84-1461B3B65AF3}    36.825647    29633   \n",
       "29634  {744F55EB-02B6-481F-B085-91337998750F}     9.600021    29634   \n",
       "29635  {9185BC16-B46F-45AC-87DF-83570C3BB200}     6.634154    29635   \n",
       "29636  {CE51A95B-EAE1-4129-80AC-2B4B2CB2F6B3}     3.424317    29636   \n",
       "\n",
       "                                                geometry  \n",
       "29632  MULTILINESTRING ((-122.29060 37.84111, -122.29...  \n",
       "29633  MULTILINESTRING ((-122.22740 37.78741, -122.22...  \n",
       "29634  MULTILINESTRING ((-122.29932 37.80642, -122.29...  \n",
       "29635  MULTILINESTRING ((-122.22825 37.78663, -122.22...  \n",
       "29636  MULTILINESTRING ((-122.30236 37.80711, -122.30...  \n",
       "\n",
       "[5 rows x 53 columns]"
      ]
     },
     "execution_count": 7,
     "metadata": {},
     "output_type": "execute_result"
    }
   ],
   "source": [
    "pz_pipes.head()"
   ]
  },
  {
   "cell_type": "code",
   "execution_count": 8,
   "metadata": {},
   "outputs": [
    {
     "data": {
      "image/png": "[encoded data removed]",
      "text/plain": [
       "<Figure size 576x576 with 1 Axes>"
      ]
     },
     "metadata": {
      "needs_background": "light"
     },
     "output_type": "display_data"
    }
   ],
   "source": [
    "plot_geometries(pressure_zone['geometry'],pz_pipes['geometry'])"
   ]
  },
  {
   "cell_type": "code",
   "execution_count": 9,
   "metadata": {},
   "outputs": [],
   "source": [
    "pipe_data_csv = pd.read_csv('../data/processed_data/pipe_information.csv')\n",
    "pz_pipes = pz_pipes.merge(pipe_data_csv,how='inner',on=['pipe_id'])"
   ]
  },
  {
   "cell_type": "code",
   "execution_count": 10,
   "metadata": {},
   "outputs": [
    {
     "name": "stdout",
     "output_type": "stream",
     "text": [
      "66746\n"
     ]
    },
    {
     "data": {
      "text/html": [
       "<div>\n",
       "<style scoped>\n",
       "    .dataframe tbody tr th:only-of-type {\n",
       "        vertical-align: middle;\n",
       "    }\n",
       "\n",
       "    .dataframe tbody tr th {\n",
       "        vertical-align: top;\n",
       "    }\n",
       "\n",
       "    .dataframe thead th {\n",
       "        text-align: right;\n",
       "    }\n",
       "</style>\n",
       "<table border=\"1\" class=\"dataframe\">\n",
       "  <thead>\n",
       "    <tr style=\"text-align: right;\">\n",
       "      <th></th>\n",
       "      <th>OBJECTID</th>\n",
       "      <th>ENABLED</th>\n",
       "      <th>FACILITYID</th>\n",
       "      <th>INSTALLDATE</th>\n",
       "      <th>STATUSCHANGEDATE</th>\n",
       "      <th>LIFECYCLESTATUS</th>\n",
       "      <th>WATERTYPE</th>\n",
       "      <th>MATERIALTYPE</th>\n",
       "      <th>MGE_MSLINK</th>\n",
       "      <th>LININGMATERIALTYPE</th>\n",
       "      <th>...</th>\n",
       "      <th>SHAPE_Length</th>\n",
       "      <th>pipe_id</th>\n",
       "      <th>geometry</th>\n",
       "      <th>node1</th>\n",
       "      <th>node2</th>\n",
       "      <th>length</th>\n",
       "      <th>material</th>\n",
       "      <th>diameter</th>\n",
       "      <th>age</th>\n",
       "      <th>C</th>\n",
       "    </tr>\n",
       "  </thead>\n",
       "  <tbody>\n",
       "    <tr>\n",
       "      <th>0</th>\n",
       "      <td>428201</td>\n",
       "      <td>1.0</td>\n",
       "      <td>1987379</td>\n",
       "      <td>None</td>\n",
       "      <td>2013-06-20T00:00:00</td>\n",
       "      <td>AB</td>\n",
       "      <td>Potable</td>\n",
       "      <td>S</td>\n",
       "      <td>NaN</td>\n",
       "      <td>M</td>\n",
       "      <td>...</td>\n",
       "      <td>6.412698</td>\n",
       "      <td>29632</td>\n",
       "      <td>MULTILINESTRING ((-122.29060 37.84111, -122.29...</td>\n",
       "      <td>28975</td>\n",
       "      <td>28976</td>\n",
       "      <td>6.412698</td>\n",
       "      <td>S</td>\n",
       "      <td>12.0</td>\n",
       "      <td>27.0</td>\n",
       "      <td>130</td>\n",
       "    </tr>\n",
       "    <tr>\n",
       "      <th>1</th>\n",
       "      <td>428202</td>\n",
       "      <td>1.0</td>\n",
       "      <td>45011</td>\n",
       "      <td>None</td>\n",
       "      <td>1937-09-17T00:00:00</td>\n",
       "      <td>AB</td>\n",
       "      <td>Potable</td>\n",
       "      <td>C</td>\n",
       "      <td>2531630.0</td>\n",
       "      <td>U</td>\n",
       "      <td>...</td>\n",
       "      <td>36.825647</td>\n",
       "      <td>29633</td>\n",
       "      <td>MULTILINESTRING ((-122.22740 37.78741, -122.22...</td>\n",
       "      <td>28977</td>\n",
       "      <td>28978</td>\n",
       "      <td>36.825647</td>\n",
       "      <td>C</td>\n",
       "      <td>6.0</td>\n",
       "      <td>75.0</td>\n",
       "      <td>100</td>\n",
       "    </tr>\n",
       "    <tr>\n",
       "      <th>2</th>\n",
       "      <td>428203</td>\n",
       "      <td>1.0</td>\n",
       "      <td>2054719</td>\n",
       "      <td>2017-11-22T00:00:00</td>\n",
       "      <td>None</td>\n",
       "      <td>AC</td>\n",
       "      <td>Potable</td>\n",
       "      <td>S</td>\n",
       "      <td>NaN</td>\n",
       "      <td>M</td>\n",
       "      <td>...</td>\n",
       "      <td>9.600021</td>\n",
       "      <td>29634</td>\n",
       "      <td>MULTILINESTRING ((-122.29932 37.80642, -122.29...</td>\n",
       "      <td>28979</td>\n",
       "      <td>28980</td>\n",
       "      <td>9.600021</td>\n",
       "      <td>S</td>\n",
       "      <td>4.0</td>\n",
       "      <td>3.0</td>\n",
       "      <td>130</td>\n",
       "    </tr>\n",
       "    <tr>\n",
       "      <th>3</th>\n",
       "      <td>428204</td>\n",
       "      <td>1.0</td>\n",
       "      <td>2113429</td>\n",
       "      <td>None</td>\n",
       "      <td>1937-09-17T00:00:00</td>\n",
       "      <td>AB</td>\n",
       "      <td>Potable</td>\n",
       "      <td>C</td>\n",
       "      <td>NaN</td>\n",
       "      <td>U</td>\n",
       "      <td>...</td>\n",
       "      <td>6.634154</td>\n",
       "      <td>29635</td>\n",
       "      <td>MULTILINESTRING ((-122.22825 37.78663, -122.22...</td>\n",
       "      <td>28981</td>\n",
       "      <td>28982</td>\n",
       "      <td>6.634154</td>\n",
       "      <td>C</td>\n",
       "      <td>6.0</td>\n",
       "      <td>75.0</td>\n",
       "      <td>100</td>\n",
       "    </tr>\n",
       "    <tr>\n",
       "      <th>4</th>\n",
       "      <td>428205</td>\n",
       "      <td>1.0</td>\n",
       "      <td>2054606</td>\n",
       "      <td>2017-11-22T00:00:00</td>\n",
       "      <td>None</td>\n",
       "      <td>AC</td>\n",
       "      <td>Potable</td>\n",
       "      <td>S</td>\n",
       "      <td>NaN</td>\n",
       "      <td>M</td>\n",
       "      <td>...</td>\n",
       "      <td>3.424317</td>\n",
       "      <td>29636</td>\n",
       "      <td>MULTILINESTRING ((-122.30236 37.80711, -122.30...</td>\n",
       "      <td>28983</td>\n",
       "      <td>28984</td>\n",
       "      <td>3.424317</td>\n",
       "      <td>S</td>\n",
       "      <td>8.0</td>\n",
       "      <td>3.0</td>\n",
       "      <td>130</td>\n",
       "    </tr>\n",
       "  </tbody>\n",
       "</table>\n",
       "<p>5 rows × 60 columns</p>\n",
       "</div>"
      ],
      "text/plain": [
       "   OBJECTID  ENABLED  FACILITYID          INSTALLDATE     STATUSCHANGEDATE  \\\n",
       "0    428201      1.0     1987379                 None  2013-06-20T00:00:00   \n",
       "1    428202      1.0       45011                 None  1937-09-17T00:00:00   \n",
       "2    428203      1.0     2054719  2017-11-22T00:00:00                 None   \n",
       "3    428204      1.0     2113429                 None  1937-09-17T00:00:00   \n",
       "4    428205      1.0     2054606  2017-11-22T00:00:00                 None   \n",
       "\n",
       "  LIFECYCLESTATUS WATERTYPE MATERIALTYPE  MGE_MSLINK LININGMATERIALTYPE  ...  \\\n",
       "0              AB   Potable            S         NaN                  M  ...   \n",
       "1              AB   Potable            C   2531630.0                  U  ...   \n",
       "2              AC   Potable            S         NaN                  M  ...   \n",
       "3              AB   Potable            C         NaN                  U  ...   \n",
       "4              AC   Potable            S         NaN                  M  ...   \n",
       "\n",
       "   SHAPE_Length pipe_id                                           geometry  \\\n",
       "0      6.412698   29632  MULTILINESTRING ((-122.29060 37.84111, -122.29...   \n",
       "1     36.825647   29633  MULTILINESTRING ((-122.22740 37.78741, -122.22...   \n",
       "2      9.600021   29634  MULTILINESTRING ((-122.29932 37.80642, -122.29...   \n",
       "3      6.634154   29635  MULTILINESTRING ((-122.22825 37.78663, -122.22...   \n",
       "4      3.424317   29636  MULTILINESTRING ((-122.30236 37.80711, -122.30...   \n",
       "\n",
       "   node1  node2     length material diameter   age    C  \n",
       "0  28975  28976   6.412698        S     12.0  27.0  130  \n",
       "1  28977  28978  36.825647        C      6.0  75.0  100  \n",
       "2  28979  28980   9.600021        S      4.0   3.0  130  \n",
       "3  28981  28982   6.634154        C      6.0  75.0  100  \n",
       "4  28983  28984   3.424317        S      8.0   3.0  130  \n",
       "\n",
       "[5 rows x 60 columns]"
      ]
     },
     "execution_count": 10,
     "metadata": {},
     "output_type": "execute_result"
    }
   ],
   "source": [
    "print (len(pz_pipes))\n",
    "pz_pipes.head()"
   ]
  },
  {
   "cell_type": "code",
   "execution_count": 12,
   "metadata": {},
   "outputs": [],
   "source": [
    "valid_column = [ 'pipe_id', 'geometry', 'node1', 'node2', 'length','material', 'diameter', 'age','C']\n",
    "pz_pipes_clean = pz_pipes[valid_column]"
   ]
  },
  {
   "cell_type": "code",
   "execution_count": 13,
   "metadata": {},
   "outputs": [
    {
     "name": "stdout",
     "output_type": "stream",
     "text": [
      "save folder does not exist, create a new one\n"
     ]
    }
   ],
   "source": [
    "save_folder = \"../data/processed_data/\"+pz_name+\"/\"\n",
    "if not os.path.exists(save_folder):\n",
    "    print (\"save folder does not exist, create a new one\")\n",
    "    os.mkdir(save_folder)\n",
    "\n"
   ]
  },
  {
   "cell_type": "code",
   "execution_count": 14,
   "metadata": {},
   "outputs": [
    {
     "name": "stdout",
     "output_type": "stream",
     "text": [
      "Pipe info saved to:  ../data/processed_data/central/pipes.geojson\n"
     ]
    }
   ],
   "source": [
    "save_path = save_folder+\"pipes.geojson\"\n",
    "pz_pipes_clean.to_file(save_path, driver=\"GeoJSON\")\n",
    "print (\"Pipe info saved to: \",save_path)"
   ]
  },
  {
   "cell_type": "markdown",
   "metadata": {},
   "source": [
    "# Select nodes from the chosen pressure zones"
   ]
  },
  {
   "cell_type": "code",
   "execution_count": 20,
   "metadata": {},
   "outputs": [],
   "source": [
    "# nodes for pz\n",
    "pz_node_mask = node_data['node_id'].isin(valid_node_ids) \n",
    "pz_nodes = node_data[pz_node_mask]\n",
    "unary_union = pz_nodes['geometry'].unary_union"
   ]
  },
  {
   "cell_type": "code",
   "execution_count": 21,
   "metadata": {},
   "outputs": [],
   "source": [
    "pz_nodes.to_file(save_folder+\"nodes.geojson\", driver=\"GeoJSON\")"
   ]
  },
  {
   "cell_type": "markdown",
   "metadata": {},
   "source": [
    "## Remove isolated pipes"
   ]
  },
  {
   "cell_type": "code",
   "execution_count": 15,
   "metadata": {},
   "outputs": [],
   "source": [
    "# again, central_isopipes.json is generated from the abandoned project, cityscape. \n",
    "# You can generate by yourself by running hydraulic simulation on the whole network\n",
    "# and find the pipes with no flow\n",
    "iso_pipe_info = gpd.read_file('../data/EBMUD-DATA/central_isopipes.json')"
   ]
  },
  {
   "cell_type": "code",
   "execution_count": 26,
   "metadata": {},
   "outputs": [],
   "source": [
    "iso_pipe_ids = list(iso_pipe_info['pipe_id'])\n",
    "iso_pipe_ids = [int(pid.split('-')[1]) for pid in iso_pipe_ids]\n"
   ]
  },
  {
   "cell_type": "code",
   "execution_count": 28,
   "metadata": {},
   "outputs": [
    {
     "name": "stdout",
     "output_type": "stream",
     "text": [
      "66746\n",
      "65698\n"
     ]
    }
   ],
   "source": [
    "print (len(pz_pipes_clean))\n",
    "connected_pipes = pz_pipes_clean[~pz_pipes_clean['pipe_id'].isin(iso_pipe_ids)]\n",
    "print (len(connected_pipes))"
   ]
  },
  {
   "cell_type": "code",
   "execution_count": 29,
   "metadata": {},
   "outputs": [
    {
     "name": "stdout",
     "output_type": "stream",
     "text": [
      "Pipe info (connected only) saved to:  ../data/processed_data/central/connected_pipes.geojson\n"
     ]
    }
   ],
   "source": [
    "save_path = save_folder+\"connected_pipes.geojson\"\n",
    "connected_pipes.to_file(save_path, driver=\"GeoJSON\")\n",
    "print (\"Pipe info (connected only) saved to: \",save_path)"
   ]
  },
  {
   "cell_type": "markdown",
   "metadata": {},
   "source": [
    "## Remove isolated nodes"
   ]
  },
  {
   "cell_type": "code",
   "execution_count": 30,
   "metadata": {},
   "outputs": [
    {
     "name": "stdout",
     "output_type": "stream",
     "text": [
      "61304 60067\n"
     ]
    }
   ],
   "source": [
    "valid_node_ids = set(list(connected_pipes['node1'])+list(connected_pipes['node2']))\n",
    "node_mask = pz_nodes['node_id'].astype('int').isin(valid_node_ids) \n",
    "connected_nodes = pz_nodes[node_mask]\n",
    "\n",
    "print(len(pz_nodes),len(connected_nodes))"
   ]
  },
  {
   "cell_type": "code",
   "execution_count": 31,
   "metadata": {},
   "outputs": [],
   "source": [
    "connected_nodes.to_file(save_folder+\"connected_nodes.geojson\", driver=\"GeoJSON\")"
   ]
  },
  {
   "cell_type": "code",
   "execution_count": null,
   "metadata": {},
   "outputs": [],
   "source": []
  }
 ],
 "metadata": {
  "kernelspec": {
   "display_name": "Python 3",
   "language": "python",
   "name": "python3"
  },
  "language_info": {
   "codemirror_mode": {
    "name": "ipython",
    "version": 3
   },
   "file_extension": ".py",
   "mimetype": "text/x-python",
   "name": "python",
   "nbconvert_exporter": "python",
   "pygments_lexer": "ipython3",
   "version": "3.7.10"
  }
 },
 "nbformat": 4,
 "nbformat_minor": 2
}

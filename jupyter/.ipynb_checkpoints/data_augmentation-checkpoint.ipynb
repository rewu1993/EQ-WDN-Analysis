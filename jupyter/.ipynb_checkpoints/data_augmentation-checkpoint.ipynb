{
 "cells": [
  {
   "cell_type": "code",
   "execution_count": 1,
   "metadata": {},
   "outputs": [],
   "source": [
    "import geopandas as gpd\n",
    "import pandas as pd\n",
    "import numpy as np\n",
    "import json"
   ]
  },
  {
   "cell_type": "code",
   "execution_count": 2,
   "metadata": {},
   "outputs": [],
   "source": [
    "# read node information \n",
    "node_path = '../data/processed_data/node_information.csv'\n",
    "node = pd.read_csv(node_path)"
   ]
  },
  {
   "cell_type": "code",
   "execution_count": 4,
   "metadata": {},
   "outputs": [
    {
     "data": {
      "text/html": [
       "<div>\n",
       "<style scoped>\n",
       "    .dataframe tbody tr th:only-of-type {\n",
       "        vertical-align: middle;\n",
       "    }\n",
       "\n",
       "    .dataframe tbody tr th {\n",
       "        vertical-align: top;\n",
       "    }\n",
       "\n",
       "    .dataframe thead th {\n",
       "        text-align: right;\n",
       "    }\n",
       "</style>\n",
       "<table border=\"1\" class=\"dataframe\">\n",
       "  <thead>\n",
       "    <tr style=\"text-align: right;\">\n",
       "      <th></th>\n",
       "      <th>node_id</th>\n",
       "      <th>longitude</th>\n",
       "      <th>latitude</th>\n",
       "      <th>elevation</th>\n",
       "      <th>demand</th>\n",
       "    </tr>\n",
       "  </thead>\n",
       "  <tbody>\n",
       "    <tr>\n",
       "      <th>0</th>\n",
       "      <td>1</td>\n",
       "      <td>-122.019001</td>\n",
       "      <td>37.814343</td>\n",
       "      <td>998.47</td>\n",
       "      <td>0.0</td>\n",
       "    </tr>\n",
       "    <tr>\n",
       "      <th>1</th>\n",
       "      <td>2</td>\n",
       "      <td>-122.018928</td>\n",
       "      <td>37.814268</td>\n",
       "      <td>996.08</td>\n",
       "      <td>0.0</td>\n",
       "    </tr>\n",
       "    <tr>\n",
       "      <th>2</th>\n",
       "      <td>3</td>\n",
       "      <td>-122.021310</td>\n",
       "      <td>37.817351</td>\n",
       "      <td>859.29</td>\n",
       "      <td>0.0</td>\n",
       "    </tr>\n",
       "    <tr>\n",
       "      <th>3</th>\n",
       "      <td>4</td>\n",
       "      <td>-122.021319</td>\n",
       "      <td>37.817339</td>\n",
       "      <td>859.29</td>\n",
       "      <td>0.0</td>\n",
       "    </tr>\n",
       "    <tr>\n",
       "      <th>4</th>\n",
       "      <td>5</td>\n",
       "      <td>-122.020071</td>\n",
       "      <td>37.816446</td>\n",
       "      <td>900.12</td>\n",
       "      <td>0.0</td>\n",
       "    </tr>\n",
       "  </tbody>\n",
       "</table>\n",
       "</div>"
      ],
      "text/plain": [
       "   node_id   longitude   latitude  elevation  demand\n",
       "0        1 -122.019001  37.814343     998.47     0.0\n",
       "1        2 -122.018928  37.814268     996.08     0.0\n",
       "2        3 -122.021310  37.817351     859.29     0.0\n",
       "3        4 -122.021319  37.817339     859.29     0.0\n",
       "4        5 -122.020071  37.816446     900.12     0.0"
      ]
     },
     "execution_count": 4,
     "metadata": {},
     "output_type": "execute_result"
    }
   ],
   "source": [
    "node.head()"
   ]
  },
  {
   "cell_type": "code",
   "execution_count": 5,
   "metadata": {},
   "outputs": [],
   "source": [
    "# read demand \n",
    "demand_path = '../data/EBMUD-DATA/ebmud_demand.geojson'\n",
    "demand = gpd.read_file(demand_path)"
   ]
  },
  {
   "cell_type": "code",
   "execution_count": 8,
   "metadata": {},
   "outputs": [
    {
     "data": {
      "text/html": [
       "<div>\n",
       "<style scoped>\n",
       "    .dataframe tbody tr th:only-of-type {\n",
       "        vertical-align: middle;\n",
       "    }\n",
       "\n",
       "    .dataframe tbody tr th {\n",
       "        vertical-align: top;\n",
       "    }\n",
       "\n",
       "    .dataframe thead th {\n",
       "        text-align: right;\n",
       "    }\n",
       "</style>\n",
       "<table border=\"1\" class=\"dataframe\">\n",
       "  <thead>\n",
       "    <tr style=\"text-align: right;\">\n",
       "      <th></th>\n",
       "      <th>OBJECTID</th>\n",
       "      <th>OBJ_ID</th>\n",
       "      <th>COORD_NO_1</th>\n",
       "      <th>COORD_EA_1</th>\n",
       "      <th>ID_New</th>\n",
       "      <th>PZ</th>\n",
       "      <th>MM_2018_gp</th>\n",
       "      <th>ASD_2018_g</th>\n",
       "      <th>AWD_2018_g</th>\n",
       "      <th>AAD_2018_g</th>\n",
       "      <th>HX_PIPE</th>\n",
       "      <th>geometry</th>\n",
       "    </tr>\n",
       "  </thead>\n",
       "  <tbody>\n",
       "    <tr>\n",
       "      <th>0</th>\n",
       "      <td>1</td>\n",
       "      <td>124668.0</td>\n",
       "      <td>2207007.042</td>\n",
       "      <td>6058094.429</td>\n",
       "      <td>232762RODEOCrockett Aqueduct</td>\n",
       "      <td>A0A</td>\n",
       "      <td>2932.413672</td>\n",
       "      <td>3005.966249</td>\n",
       "      <td>3090.113885</td>\n",
       "      <td>3141.383633</td>\n",
       "      <td>None</td>\n",
       "      <td>POINT (-122.24875 38.04316)</td>\n",
       "    </tr>\n",
       "    <tr>\n",
       "      <th>1</th>\n",
       "      <td>2</td>\n",
       "      <td>388537.0</td>\n",
       "      <td>2169405.652</td>\n",
       "      <td>6019891.334</td>\n",
       "      <td>275000RICHMONDCastro St</td>\n",
       "      <td>G0A1</td>\n",
       "      <td>2750.143026</td>\n",
       "      <td>2705.053616</td>\n",
       "      <td>2776.053519</td>\n",
       "      <td>2591.204475</td>\n",
       "      <td>None</td>\n",
       "      <td>POINT (-122.37876 37.93788)</td>\n",
       "    </tr>\n",
       "    <tr>\n",
       "      <th>2</th>\n",
       "      <td>3</td>\n",
       "      <td>12489.0</td>\n",
       "      <td>2211597.852</td>\n",
       "      <td>6065224.328</td>\n",
       "      <td>009318CROCKETTHighway 40</td>\n",
       "      <td>A0B</td>\n",
       "      <td>1268.422152</td>\n",
       "      <td>1249.929965</td>\n",
       "      <td>1054.593540</td>\n",
       "      <td>1172.101328</td>\n",
       "      <td>None</td>\n",
       "      <td>POINT (-122.22429 38.05613)</td>\n",
       "    </tr>\n",
       "    <tr>\n",
       "      <th>3</th>\n",
       "      <td>4</td>\n",
       "      <td>35459.0</td>\n",
       "      <td>2169328.434</td>\n",
       "      <td>6019860.118</td>\n",
       "      <td>236705RICHMONDCastro St</td>\n",
       "      <td>G0A1</td>\n",
       "      <td>638.579507</td>\n",
       "      <td>831.969310</td>\n",
       "      <td>780.101700</td>\n",
       "      <td>721.593392</td>\n",
       "      <td>None</td>\n",
       "      <td>POINT (-122.37886 37.93767)</td>\n",
       "    </tr>\n",
       "    <tr>\n",
       "      <th>4</th>\n",
       "      <td>5</td>\n",
       "      <td>296811.0</td>\n",
       "      <td>2146007.317</td>\n",
       "      <td>6054800.240</td>\n",
       "      <td>304920BERKELEYBancroft Way</td>\n",
       "      <td>A5A</td>\n",
       "      <td>501.362730</td>\n",
       "      <td>510.172680</td>\n",
       "      <td>423.518779</td>\n",
       "      <td>474.730692</td>\n",
       "      <td>None</td>\n",
       "      <td>POINT (-122.25621 37.87550)</td>\n",
       "    </tr>\n",
       "  </tbody>\n",
       "</table>\n",
       "</div>"
      ],
      "text/plain": [
       "   OBJECTID    OBJ_ID   COORD_NO_1   COORD_EA_1                        ID_New  \\\n",
       "0         1  124668.0  2207007.042  6058094.429  232762RODEOCrockett Aqueduct   \n",
       "1         2  388537.0  2169405.652  6019891.334       275000RICHMONDCastro St   \n",
       "2         3   12489.0  2211597.852  6065224.328      009318CROCKETTHighway 40   \n",
       "3         4   35459.0  2169328.434  6019860.118       236705RICHMONDCastro St   \n",
       "4         5  296811.0  2146007.317  6054800.240    304920BERKELEYBancroft Way   \n",
       "\n",
       "     PZ   MM_2018_gp   ASD_2018_g   AWD_2018_g   AAD_2018_g HX_PIPE  \\\n",
       "0   A0A  2932.413672  3005.966249  3090.113885  3141.383633    None   \n",
       "1  G0A1  2750.143026  2705.053616  2776.053519  2591.204475    None   \n",
       "2   A0B  1268.422152  1249.929965  1054.593540  1172.101328    None   \n",
       "3  G0A1   638.579507   831.969310   780.101700   721.593392    None   \n",
       "4   A5A   501.362730   510.172680   423.518779   474.730692    None   \n",
       "\n",
       "                      geometry  \n",
       "0  POINT (-122.24875 38.04316)  \n",
       "1  POINT (-122.37876 37.93788)  \n",
       "2  POINT (-122.22429 38.05613)  \n",
       "3  POINT (-122.37886 37.93767)  \n",
       "4  POINT (-122.25621 37.87550)  "
      ]
     },
     "execution_count": 8,
     "metadata": {},
     "output_type": "execute_result"
    }
   ],
   "source": [
    "demand.head()"
   ]
  },
  {
   "cell_type": "code",
   "execution_count": 14,
   "metadata": {},
   "outputs": [],
   "source": [
    "demand_lon = []\n",
    "demand_lat = []\n",
    "\n",
    "for geom in demand['geometry']:\n",
    "    demand_lon.append(geom.x)\n",
    "    demand_lat.append(geom.y)"
   ]
  },
  {
   "cell_type": "code",
   "execution_count": 16,
   "metadata": {},
   "outputs": [],
   "source": [
    "demand['longitude'] = demand_lon\n",
    "demand['latitude'] = demand_lat\n"
   ]
  },
  {
   "cell_type": "code",
   "execution_count": 18,
   "metadata": {},
   "outputs": [],
   "source": [
    "valid_column = ['OBJECTID','longitude','latitude','MM_2018_gp']"
   ]
  },
  {
   "cell_type": "code",
   "execution_count": 24,
   "metadata": {},
   "outputs": [
    {
     "data": {
      "text/html": [
       "<div>\n",
       "<style scoped>\n",
       "    .dataframe tbody tr th:only-of-type {\n",
       "        vertical-align: middle;\n",
       "    }\n",
       "\n",
       "    .dataframe tbody tr th {\n",
       "        vertical-align: top;\n",
       "    }\n",
       "\n",
       "    .dataframe thead th {\n",
       "        text-align: right;\n",
       "    }\n",
       "</style>\n",
       "<table border=\"1\" class=\"dataframe\">\n",
       "  <thead>\n",
       "    <tr style=\"text-align: right;\">\n",
       "      <th></th>\n",
       "      <th>OBJECTID</th>\n",
       "      <th>longitude</th>\n",
       "      <th>latitude</th>\n",
       "      <th>MM_2018_gp</th>\n",
       "    </tr>\n",
       "  </thead>\n",
       "  <tbody>\n",
       "    <tr>\n",
       "      <th>0</th>\n",
       "      <td>1</td>\n",
       "      <td>-122.248750</td>\n",
       "      <td>38.043159</td>\n",
       "      <td>2932.413672</td>\n",
       "    </tr>\n",
       "    <tr>\n",
       "      <th>1</th>\n",
       "      <td>2</td>\n",
       "      <td>-122.378762</td>\n",
       "      <td>37.937884</td>\n",
       "      <td>2750.143026</td>\n",
       "    </tr>\n",
       "    <tr>\n",
       "      <th>2</th>\n",
       "      <td>3</td>\n",
       "      <td>-122.224289</td>\n",
       "      <td>38.056127</td>\n",
       "      <td>1268.422152</td>\n",
       "    </tr>\n",
       "    <tr>\n",
       "      <th>3</th>\n",
       "      <td>4</td>\n",
       "      <td>-122.378865</td>\n",
       "      <td>37.937670</td>\n",
       "      <td>638.579507</td>\n",
       "    </tr>\n",
       "    <tr>\n",
       "      <th>4</th>\n",
       "      <td>5</td>\n",
       "      <td>-122.256212</td>\n",
       "      <td>37.875499</td>\n",
       "      <td>501.362730</td>\n",
       "    </tr>\n",
       "  </tbody>\n",
       "</table>\n",
       "</div>"
      ],
      "text/plain": [
       "   OBJECTID   longitude   latitude   MM_2018_gp\n",
       "0         1 -122.248750  38.043159  2932.413672\n",
       "1         2 -122.378762  37.937884  2750.143026\n",
       "2         3 -122.224289  38.056127  1268.422152\n",
       "3         4 -122.378865  37.937670   638.579507\n",
       "4         5 -122.256212  37.875499   501.362730"
      ]
     },
     "execution_count": 24,
     "metadata": {},
     "output_type": "execute_result"
    }
   ],
   "source": [
    "demand_clean = demand[valid_column]\n",
    "demand_clean.head()"
   ]
  },
  {
   "cell_type": "code",
   "execution_count": 23,
   "metadata": {},
   "outputs": [],
   "source": [
    "demand_nodes_path = '../data/processed_data/demand_nodes.csv'\n",
    "demand_clean.to_csv(demand_nodes_path,index=False)"
   ]
  },
  {
   "cell_type": "code",
   "execution_count": 25,
   "metadata": {},
   "outputs": [],
   "source": [
    "demand_id_map_path ='../data/processed_data/demand_on_nodes.csv'\n",
    "demand_id_map = pd.read_csv(demand_id_map_path)"
   ]
  },
  {
   "cell_type": "code",
   "execution_count": 27,
   "metadata": {},
   "outputs": [
    {
     "name": "stderr",
     "output_type": "stream",
     "text": [
      "/home/rewu/anaconda3/lib/python3.7/site-packages/ipykernel_launcher.py:2: SettingWithCopyWarning: \n",
      "A value is trying to be set on a copy of a slice from a DataFrame.\n",
      "Try using .loc[row_indexer,col_indexer] = value instead\n",
      "\n",
      "See the caveats in the documentation: http://pandas.pydata.org/pandas-docs/stable/indexing.html#indexing-view-versus-copy\n",
      "  \n"
     ]
    }
   ],
   "source": [
    "node_ids = list(demand_id_map['pipe_node_id'])\n",
    "demand_clean['node_id'] = node_ids"
   ]
  },
  {
   "cell_type": "code",
   "execution_count": 34,
   "metadata": {},
   "outputs": [],
   "source": [
    "mapped_demand = demand_clean.groupby(['node_id'], as_index=False).agg('sum')"
   ]
  },
  {
   "cell_type": "code",
   "execution_count": 39,
   "metadata": {},
   "outputs": [],
   "source": [
    "valid_columns = ['node_id','MM_2018_gp']\n",
    "mapped_demand = mapped_demand[valid_columns]"
   ]
  },
  {
   "cell_type": "code",
   "execution_count": 44,
   "metadata": {},
   "outputs": [],
   "source": [
    "node_with_demand = mapped_demand.merge(node,on = 'node_id',how='inner')"
   ]
  },
  {
   "cell_type": "code",
   "execution_count": 45,
   "metadata": {},
   "outputs": [
    {
     "data": {
      "text/html": [
       "<div>\n",
       "<style scoped>\n",
       "    .dataframe tbody tr th:only-of-type {\n",
       "        vertical-align: middle;\n",
       "    }\n",
       "\n",
       "    .dataframe tbody tr th {\n",
       "        vertical-align: top;\n",
       "    }\n",
       "\n",
       "    .dataframe thead th {\n",
       "        text-align: right;\n",
       "    }\n",
       "</style>\n",
       "<table border=\"1\" class=\"dataframe\">\n",
       "  <thead>\n",
       "    <tr style=\"text-align: right;\">\n",
       "      <th></th>\n",
       "      <th>node_id</th>\n",
       "      <th>MM_2018_gp</th>\n",
       "      <th>longitude</th>\n",
       "      <th>latitude</th>\n",
       "      <th>elevation</th>\n",
       "      <th>demand</th>\n",
       "    </tr>\n",
       "  </thead>\n",
       "  <tbody>\n",
       "    <tr>\n",
       "      <th>0</th>\n",
       "      <td>6</td>\n",
       "      <td>1.064487</td>\n",
       "      <td>-122.019911</td>\n",
       "      <td>37.816474</td>\n",
       "      <td>899.30</td>\n",
       "      <td>0.0</td>\n",
       "    </tr>\n",
       "    <tr>\n",
       "      <th>1</th>\n",
       "      <td>8</td>\n",
       "      <td>0.612886</td>\n",
       "      <td>-122.019041</td>\n",
       "      <td>37.814389</td>\n",
       "      <td>995.17</td>\n",
       "      <td>0.0</td>\n",
       "    </tr>\n",
       "    <tr>\n",
       "      <th>2</th>\n",
       "      <td>11</td>\n",
       "      <td>0.193543</td>\n",
       "      <td>-122.016216</td>\n",
       "      <td>37.813314</td>\n",
       "      <td>926.86</td>\n",
       "      <td>0.0</td>\n",
       "    </tr>\n",
       "    <tr>\n",
       "      <th>3</th>\n",
       "      <td>16</td>\n",
       "      <td>1.999944</td>\n",
       "      <td>-122.019909</td>\n",
       "      <td>37.814378</td>\n",
       "      <td>1036.99</td>\n",
       "      <td>0.0</td>\n",
       "    </tr>\n",
       "    <tr>\n",
       "      <th>4</th>\n",
       "      <td>20</td>\n",
       "      <td>1.161258</td>\n",
       "      <td>-122.020507</td>\n",
       "      <td>37.816163</td>\n",
       "      <td>915.42</td>\n",
       "      <td>0.0</td>\n",
       "    </tr>\n",
       "  </tbody>\n",
       "</table>\n",
       "</div>"
      ],
      "text/plain": [
       "   node_id  MM_2018_gp   longitude   latitude  elevation  demand\n",
       "0        6    1.064487 -122.019911  37.816474     899.30     0.0\n",
       "1        8    0.612886 -122.019041  37.814389     995.17     0.0\n",
       "2       11    0.193543 -122.016216  37.813314     926.86     0.0\n",
       "3       16    1.999944 -122.019909  37.814378    1036.99     0.0\n",
       "4       20    1.161258 -122.020507  37.816163     915.42     0.0"
      ]
     },
     "execution_count": 45,
     "metadata": {},
     "output_type": "execute_result"
    }
   ],
   "source": [
    "node_with_demand.head()"
   ]
  },
  {
   "cell_type": "code",
   "execution_count": 48,
   "metadata": {},
   "outputs": [],
   "source": [
    "node_save_path = '../data/processed_data/node_information_ebmud_demand.csv'\n",
    "node_with_demand.to_csv(node_save_path,index=False)"
   ]
  },
  {
   "cell_type": "code",
   "execution_count": 47,
   "metadata": {},
   "outputs": [
    {
     "data": {
      "text/plain": [
       "151149.3632702013"
      ]
     },
     "execution_count": 47,
     "metadata": {},
     "output_type": "execute_result"
    }
   ],
   "source": [
    "node_with_demand['MM_2018_gp'].sum("
   ]
  },
  {
   "cell_type": "code",
   "execution_count": null,
   "metadata": {},
   "outputs": [],
   "source": []
  }
 ],
 "metadata": {
  "kernelspec": {
   "display_name": "Python 3",
   "language": "python",
   "name": "python3"
  },
  "language_info": {
   "codemirror_mode": {
    "name": "ipython",
    "version": 3
   },
   "file_extension": ".py",
   "mimetype": "text/x-python",
   "name": "python",
   "nbconvert_exporter": "python",
   "pygments_lexer": "ipython3",
   "version": "3.7.3"
  }
 },
 "nbformat": 4,
 "nbformat_minor": 2
}

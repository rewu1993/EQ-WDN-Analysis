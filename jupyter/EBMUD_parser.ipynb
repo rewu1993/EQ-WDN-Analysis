{
 "cells": [
  {
   "cell_type": "code",
   "execution_count": 1,
   "metadata": {},
   "outputs": [],
   "source": [
    "import json\n",
    "import pandas as pd\n",
    "import geocoder\n",
    "import numpy as np"
   ]
  },
  {
   "cell_type": "markdown",
   "metadata": {},
   "source": [
    "# Add UID to Pipes data"
   ]
  },
  {
   "cell_type": "code",
   "execution_count": 2,
   "metadata": {},
   "outputs": [],
   "source": [
    "ebmud_pipes_path = '../data/EBMUD-DATA/pipeline_data.geojson'\n",
    "with open(ebmud_pipes_path, \"r\") as read_file:\n",
    "    ebmud_pipe_data = json.load(read_file, strict=False)\n",
    "pipes = ebmud_pipe_data['features']"
   ]
  },
  {
   "cell_type": "code",
   "execution_count": 3,
   "metadata": {},
   "outputs": [],
   "source": [
    "for i, p in enumerate(pipes):\n",
    "    p['properties']['pipe_id']= i\n",
    "    \n",
    "# for p,age in zip(pipes,ages):\n",
    "#     p['properties']['age']= age\n",
    "    "
   ]
  },
  {
   "cell_type": "code",
   "execution_count": 4,
   "metadata": {},
   "outputs": [],
   "source": [
    "data_final = ebmud_pipe_data.copy()\n",
    "data_final['features'] = pipes"
   ]
  },
  {
   "cell_type": "code",
   "execution_count": 5,
   "metadata": {},
   "outputs": [],
   "source": [
    "output_filename = '../data/processed_data/EBMUD_pipe_network.json'\n",
    "json.dump(data_final, open(output_filename, 'w'))"
   ]
  },
  {
   "cell_type": "markdown",
   "metadata": {},
   "source": [
    "# Parse pipe information"
   ]
  },
  {
   "cell_type": "code",
   "execution_count": 6,
   "metadata": {},
   "outputs": [],
   "source": [
    "from src.pipes2nodes import *"
   ]
  },
  {
   "cell_type": "code",
   "execution_count": 7,
   "metadata": {},
   "outputs": [],
   "source": [
    "def parse_roughness(p):\n",
    "    try:\n",
    "        C = int(p['properties']['ROUGHNESS'])\n",
    "        if C == 0:\n",
    "            C = 100\n",
    "    except:\n",
    "        C = 130\n",
    "    return C"
   ]
  },
  {
   "cell_type": "code",
   "execution_count": 8,
   "metadata": {},
   "outputs": [],
   "source": [
    "pipe_ids = []\n",
    "node1_list = []\n",
    "node2_list = []\n",
    "node_registry = NodeRegistry()\n",
    "\n",
    "lengths = []\n",
    "diameters = []\n",
    "materials = []\n",
    "ages = []\n",
    "C = []"
   ]
  },
  {
   "cell_type": "code",
   "execution_count": 9,
   "metadata": {},
   "outputs": [],
   "source": [
    "for p in pipes:\n",
    "    if active:\n",
    "        node1,node2 = parse_pipe_nodes(p,node_registry)\n",
    "        node1_list.append(node1)\n",
    "        node2_list.append(node2)\n",
    "\n",
    "        pipe_ids.append(parse_pipe_id(p)) \n",
    "        lengths.append(parse_pipe_length(p))\n",
    "        diameters.append(parse_pipe_diameter(p))\n",
    "        materials.append(parse_pipe_material(p))\n",
    "        ages.append(parse_pipe_age(p))\n",
    "        C.append(parse_roughness(p))\n",
    "    else:\n",
    "        print (p)\n",
    "    "
   ]
  },
  {
   "cell_type": "code",
   "execution_count": 10,
   "metadata": {},
   "outputs": [
    {
     "data": {
      "text/html": [
       "<div>\n",
       "<style scoped>\n",
       "    .dataframe tbody tr th:only-of-type {\n",
       "        vertical-align: middle;\n",
       "    }\n",
       "\n",
       "    .dataframe tbody tr th {\n",
       "        vertical-align: top;\n",
       "    }\n",
       "\n",
       "    .dataframe thead th {\n",
       "        text-align: right;\n",
       "    }\n",
       "</style>\n",
       "<table border=\"1\" class=\"dataframe\">\n",
       "  <thead>\n",
       "    <tr style=\"text-align: right;\">\n",
       "      <th></th>\n",
       "      <th>pipe_id</th>\n",
       "      <th>node1</th>\n",
       "      <th>node2</th>\n",
       "      <th>length</th>\n",
       "      <th>material</th>\n",
       "      <th>diameter</th>\n",
       "      <th>age</th>\n",
       "      <th>C</th>\n",
       "    </tr>\n",
       "  </thead>\n",
       "  <tbody>\n",
       "    <tr>\n",
       "      <th>0</th>\n",
       "      <td>0</td>\n",
       "      <td>1</td>\n",
       "      <td>2</td>\n",
       "      <td>34.586882</td>\n",
       "      <td>A</td>\n",
       "      <td>6.0</td>\n",
       "      <td>47.0</td>\n",
       "      <td>130</td>\n",
       "    </tr>\n",
       "    <tr>\n",
       "      <th>1</th>\n",
       "      <td>1</td>\n",
       "      <td>3</td>\n",
       "      <td>4</td>\n",
       "      <td>5.085738</td>\n",
       "      <td>S</td>\n",
       "      <td>6.0</td>\n",
       "      <td>33.0</td>\n",
       "      <td>130</td>\n",
       "    </tr>\n",
       "    <tr>\n",
       "      <th>2</th>\n",
       "      <td>2</td>\n",
       "      <td>5</td>\n",
       "      <td>6</td>\n",
       "      <td>47.460385</td>\n",
       "      <td>S</td>\n",
       "      <td>1.0</td>\n",
       "      <td>60.0</td>\n",
       "      <td>80</td>\n",
       "    </tr>\n",
       "    <tr>\n",
       "      <th>3</th>\n",
       "      <td>3</td>\n",
       "      <td>7</td>\n",
       "      <td>8</td>\n",
       "      <td>4.558327</td>\n",
       "      <td>A</td>\n",
       "      <td>6.0</td>\n",
       "      <td>47.0</td>\n",
       "      <td>130</td>\n",
       "    </tr>\n",
       "    <tr>\n",
       "      <th>4</th>\n",
       "      <td>4</td>\n",
       "      <td>9</td>\n",
       "      <td>10</td>\n",
       "      <td>14.561382</td>\n",
       "      <td>S</td>\n",
       "      <td>12.0</td>\n",
       "      <td>58.0</td>\n",
       "      <td>130</td>\n",
       "    </tr>\n",
       "  </tbody>\n",
       "</table>\n",
       "</div>"
      ],
      "text/plain": [
       "   pipe_id  node1  node2     length material  diameter   age    C\n",
       "0        0      1      2  34.586882        A       6.0  47.0  130\n",
       "1        1      3      4   5.085738        S       6.0  33.0  130\n",
       "2        2      5      6  47.460385        S       1.0  60.0   80\n",
       "3        3      7      8   4.558327        A       6.0  47.0  130\n",
       "4        4      9     10  14.561382        S      12.0  58.0  130"
      ]
     },
     "execution_count": 10,
     "metadata": {},
     "output_type": "execute_result"
    }
   ],
   "source": [
    "df_dict  = {'pipe_id': pipe_ids,\n",
    "           'node1':node1_list,\n",
    "           'node2':node2_list,\n",
    "           'length':lengths,\n",
    "           'material':materials,\n",
    "           'diameter': diameters,\n",
    "           'age': ages,\n",
    "           'C':C}\n",
    "df_pipes = pd.DataFrame.from_dict(df_dict)\n",
    "df_pipes.head()"
   ]
  },
  {
   "cell_type": "code",
   "execution_count": 11,
   "metadata": {},
   "outputs": [],
   "source": [
    "save_path = '../data/processed_data/pipe_information.csv'\n",
    "df_pipes.to_csv(save_path,index=False)"
   ]
  },
  {
   "cell_type": "markdown",
   "metadata": {},
   "source": [
    "# Get Node information"
   ]
  },
  {
   "cell_type": "code",
   "execution_count": 12,
   "metadata": {},
   "outputs": [],
   "source": [
    "nids = []\n",
    "nlat = []\n",
    "nlong = []\n",
    "\n",
    "for coord, nid in node_registry.nodes.items():\n",
    "    nids.append(nid)\n",
    "    nlat.append(coord[1])\n",
    "    nlong.append(coord[0])\n"
   ]
  },
  {
   "cell_type": "code",
   "execution_count": 13,
   "metadata": {},
   "outputs": [
    {
     "name": "stdout",
     "output_type": "stream",
     "text": [
      "181595\n"
     ]
    },
    {
     "data": {
      "text/html": [
       "<div>\n",
       "<style scoped>\n",
       "    .dataframe tbody tr th:only-of-type {\n",
       "        vertical-align: middle;\n",
       "    }\n",
       "\n",
       "    .dataframe tbody tr th {\n",
       "        vertical-align: top;\n",
       "    }\n",
       "\n",
       "    .dataframe thead th {\n",
       "        text-align: right;\n",
       "    }\n",
       "</style>\n",
       "<table border=\"1\" class=\"dataframe\">\n",
       "  <thead>\n",
       "    <tr style=\"text-align: right;\">\n",
       "      <th></th>\n",
       "      <th>node_id</th>\n",
       "      <th>longitude</th>\n",
       "      <th>latitude</th>\n",
       "    </tr>\n",
       "  </thead>\n",
       "  <tbody>\n",
       "    <tr>\n",
       "      <th>0</th>\n",
       "      <td>1</td>\n",
       "      <td>-122.019001</td>\n",
       "      <td>37.814343</td>\n",
       "    </tr>\n",
       "    <tr>\n",
       "      <th>1</th>\n",
       "      <td>2</td>\n",
       "      <td>-122.018928</td>\n",
       "      <td>37.814268</td>\n",
       "    </tr>\n",
       "    <tr>\n",
       "      <th>2</th>\n",
       "      <td>3</td>\n",
       "      <td>-122.021310</td>\n",
       "      <td>37.817351</td>\n",
       "    </tr>\n",
       "    <tr>\n",
       "      <th>3</th>\n",
       "      <td>4</td>\n",
       "      <td>-122.021319</td>\n",
       "      <td>37.817339</td>\n",
       "    </tr>\n",
       "    <tr>\n",
       "      <th>4</th>\n",
       "      <td>5</td>\n",
       "      <td>-122.020071</td>\n",
       "      <td>37.816446</td>\n",
       "    </tr>\n",
       "  </tbody>\n",
       "</table>\n",
       "</div>"
      ],
      "text/plain": [
       "   node_id   longitude   latitude\n",
       "0        1 -122.019001  37.814343\n",
       "1        2 -122.018928  37.814268\n",
       "2        3 -122.021310  37.817351\n",
       "3        4 -122.021319  37.817339\n",
       "4        5 -122.020071  37.816446"
      ]
     },
     "execution_count": 13,
     "metadata": {},
     "output_type": "execute_result"
    }
   ],
   "source": [
    "node_dict  = {'node_id': nids,\n",
    "              'longitude':nlong,\n",
    "           'latitude':nlat}\n",
    "df_nodes = pd.DataFrame.from_dict(node_dict)\n",
    "print (len(df_nodes))\n",
    "df_nodes.head()"
   ]
  },
  {
   "cell_type": "code",
   "execution_count": 14,
   "metadata": {},
   "outputs": [],
   "source": [
    "save_path = '../data/processed_data/node_information.csv'\n",
    "df_nodes.to_csv(save_path,index=False)"
   ]
  },
  {
   "cell_type": "code",
   "execution_count": null,
   "metadata": {},
   "outputs": [],
   "source": []
  }
 ],
 "metadata": {
  "kernelspec": {
   "display_name": "Python 3",
   "language": "python",
   "name": "python3"
  },
  "language_info": {
   "codemirror_mode": {
    "name": "ipython",
    "version": 3
   },
   "file_extension": ".py",
   "mimetype": "text/x-python",
   "name": "python",
   "nbconvert_exporter": "python",
   "pygments_lexer": "ipython3",
   "version": "3.7.10"
  }
 },
 "nbformat": 4,
 "nbformat_minor": 2
}

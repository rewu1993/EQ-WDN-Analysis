{
 "cells": [
  {
   "cell_type": "code",
   "execution_count": 1,
   "metadata": {},
   "outputs": [],
   "source": [
    "import pandas as pd\n",
    "import geopandas as gpd\n",
    "import os\n",
    "import numpy as np\n",
    "from shutil import copyfile\n",
    "from glob import glob\n",
    "import multiprocessing as mp\n",
    "import matplotlib.pyplot as plt"
   ]
  },
  {
   "cell_type": "markdown",
   "metadata": {},
   "source": [
    "# Monte Carlo Simulation for Damaged Networks"
   ]
  },
  {
   "cell_type": "code",
   "execution_count": 2,
   "metadata": {},
   "outputs": [],
   "source": [
    "def get_bar_ranges(space):\n",
    "    ranges = []\n",
    "    for i in range(1,len(space)):\n",
    "         ranges.append((space[i-1],space[i]))\n",
    "    return ranges\n",
    "\n",
    "def get_failure_groups(fail_probs,min_thre = 1e-3,num_groups = 10):\n",
    "    valid_fails = [fail_prob for fail_prob in fail_probs if fail_prob > min_thre]\n",
    "    count, space = np.histogram(valid_fails, num_groups)\n",
    "    ranges = get_bar_ranges(space)\n",
    "    return ranges\n",
    "    "
   ]
  },
  {
   "cell_type": "code",
   "execution_count": 3,
   "metadata": {},
   "outputs": [],
   "source": [
    "def get_failed_pipes_mask(pipe_info,groups):\n",
    "    broken_pipes = np.zeros(len(pipe_info))\n",
    "    for r in groups:\n",
    "        pipes_mask = list((pipe_info['fail_prob'] > r[0]) & (pipe_info['fail_prob'] < r[1]))\n",
    "        valid_indices = np.nonzero(pipes_mask)[0]\n",
    "        num_fails = int(np.mean(r) * sum(pipes_mask))\n",
    "        fail_indices = np.random.choice(valid_indices,num_fails,replace = False)\n",
    "        broken_pipes[fail_indices] = 1\n",
    "    return broken_pipes"
   ]
  },
  {
   "cell_type": "code",
   "execution_count": 4,
   "metadata": {},
   "outputs": [],
   "source": [
    "def generate_leak_diameter(pipe_diam,min_ratio = 0.05, max_ratio = 0.25):\n",
    "    r = np.random.uniform(min_ratio,max_ratio)\n",
    "    return pipe_diam*r"
   ]
  },
  {
   "cell_type": "code",
   "execution_count": 5,
   "metadata": {},
   "outputs": [],
   "source": [
    "def get_leak_sizes(pipe_info):\n",
    "    leak_size = np.zeros(len(pipe_info))\n",
    "    for index, row in pipe_info.iterrows():\n",
    "        d,repair = row['diameter'],row['repair']\n",
    "        if repair:\n",
    "            leak_d = generate_leak_diameter(d)\n",
    "            leak_size[index] = leak_d\n",
    "    return leak_size\n",
    "\n",
    "def fail_pipes_number(pipe_info):\n",
    "    fail_probs = np.array(pipe_info['fail_prob'])\n",
    "    groups = get_failure_groups(fail_probs)\n",
    "\n",
    "    failed_pipes_mask = get_failed_pipes_mask(pipe_info,groups)\n",
    "    num_failed_pipes = sum(failed_pipes_mask)\n",
    "    print (f'number of failed pipes are : {num_failed_pipes}')\n",
    "    return num_failed_pipes\n",
    "    \n",
    "def generate_random_leaks(pipe_info):\n",
    "    fail_probs = np.array(pipe_info['fail_prob'])\n",
    "    groups = get_failure_groups(fail_probs)\n",
    "\n",
    "    failed_pipes_mask = get_failed_pipes_mask(pipe_info,groups)\n",
    "#     print (f'number of failed pipes are : {sum(failed_pipes_mask)}')\n",
    "    pipe_info['repair'] = failed_pipes_mask\n",
    "\n",
    "    leak_sizes = get_leak_sizes(pipe_info)\n",
    "    return leak_sizes\n",
    "\n",
    "    "
   ]
  },
  {
   "cell_type": "code",
   "execution_count": 6,
   "metadata": {},
   "outputs": [],
   "source": [
    "def write_leaks(file_path,df_leak_pipe): \n",
    "    with open(file_path, 'a') as the_file:\n",
    "        for index, pipe in df_leak_pipe.iterrows():\n",
    "            the_file.write(str(pipe['node1']) +'   ')\n",
    "            the_file.write(str(pipe['leak_size']) +'   ')\n",
    "            the_file.write('   ;\\n')\n",
    "        the_file.write('[END]\\n')\n",
    "\n"
   ]
  },
  {
   "cell_type": "code",
   "execution_count": 7,
   "metadata": {},
   "outputs": [],
   "source": [
    "def get_prefix(file_path):\n",
    "    file_name = file_path.split('/')[-1]\n",
    "    prefix = file_name.split('.')[0]\n",
    "    return prefix[6:]\n",
    "\n",
    "def mc_hydrausim(save_folder,pipe_info,mc_num):\n",
    "    np.random.seed() \n",
    "    if not os.path.exists(save_folder):\n",
    "        os.makedirs(save_folder)\n",
    "        \n",
    "    pipe_info['leak_size'] = generate_random_leaks(pipe_info)\n",
    "    df_leak_pipe = pipe_info[pipe_info['repair'] == 1]\n",
    "    \n",
    "    # create .inp file with leak information \n",
    "    with open(TEMPLATE_PATH, 'r') as file:\n",
    "        lines = file.readlines()\n",
    "    lines[-1] = '[LEAKS]\\n'\n",
    "    lines.append(';ID   DIAMETER\\n')\n",
    "\n",
    "    name = f'im_sim_{mc_num}.inp'\n",
    "    save_path = save_folder+ name \n",
    "    with open(save_path,'w') as fp:\n",
    "        fp.writelines(lines)\n",
    "    write_leaks(save_path,df_leak_pipe)\n",
    "    # Use HydrauSim to Run Hydraulic Simulation\n",
    "    command = '/home/rewu/Documents/research/pipe-network/build/pipe_network'\n",
    "    # print (name[:-4])\n",
    "    cmd = f'{command} -p -f {save_path} -t {save_folder} -n {name[:-4]} '\n",
    "    os.system(cmd) \n",
    "\n",
    "def mp_hydrausim(save_folder,pipe_info):\n",
    "    pool = mp.Pool(5)\n",
    "    results = pool.starmap(mc_hydrausim, [(save_folder,pipe_info,i) for i in range(NUM_MC)])\n",
    "    pool.close()"
   ]
  },
  {
   "cell_type": "code",
   "execution_count": 8,
   "metadata": {},
   "outputs": [],
   "source": [
    "NUM_MC = 100 #100\n",
    "TEMPLATE_PATH = '../data/processed_data/central/central.inp'\n",
    "save_base_path = '../results/eq_results/'    "
   ]
  },
  {
   "cell_type": "code",
   "execution_count": 9,
   "metadata": {
    "scrolled": true
   },
   "outputs": [
    {
     "name": "stdout",
     "output_type": "stream",
     "text": [
      "im_rep47\n"
     ]
    }
   ],
   "source": [
    "pipe_paths = glob('../data/rupture/pipes/*.geojson')\n",
    "for pipe_path in pipe_paths[:1]:\n",
    "    pipe_info = gpd.read_file(pipe_path)\n",
    "    im = get_prefix(pipe_path)\n",
    "    print (im)\n",
    "#     print_fail_pipes(pipe_info)\n",
    "    save_folder = save_base_path+im+'/'\n",
    "    mp_hydrausim(save_folder,pipe_info)\n",
    "    "
   ]
  },
  {
   "cell_type": "markdown",
   "metadata": {},
   "source": [
    "# Postprocessing \n"
   ]
  },
  {
   "cell_type": "code",
   "execution_count": 13,
   "metadata": {},
   "outputs": [],
   "source": [
    "def get_low_pressure_nodes(node_tot):\n",
    "    pressure_m = (node_tot['head']-(0.3048*node_tot['elevation']))\n",
    "    # convert from m to psi \n",
    "    m_psi_const = 1.42197\n",
    "    pressure_psi = pressure_m*m_psi_const\n",
    "    node_tot['pressure'] = pressure_psi\n",
    "    low_pressure_cond = node_tot['pressure']<33\n",
    "    low_pressure_node = node_tot[low_pressure_cond]\n",
    "    return low_pressure_node\n",
    "\n",
    "def get_lack_demand_nodes(low_pressure_node):\n",
    "    deficiency_ratio = get_deficiency_ratio(low_pressure_node)\n",
    "    lack_demand_nodes = low_pressure_node[deficiency_ratio<0]\n",
    "    return lack_demand_nodes"
   ]
  },
  {
   "cell_type": "code",
   "execution_count": 14,
   "metadata": {},
   "outputs": [],
   "source": [
    "def get_deficiency_ratio(demand_nodes):\n",
    "    deficiency = demand_nodes['MM_2018_gp']-demand_nodes['supply']\n",
    "    deficiency_ratio = deficiency/demand_nodes['MM_2018_gp']*100\n",
    "    return deficiency_ratio\n"
   ]
  },
  {
   "cell_type": "code",
   "execution_count": 15,
   "metadata": {},
   "outputs": [],
   "source": [
    "def read_node_result(node_result_path):\n",
    "    node_result = pd.read_csv(node_result_path)\n",
    "    node_result = node_result.rename(columns={\"node_name\": \"node_id\",\"demand\":\"supply\"})\n",
    "    node_result['supply'] = node_result['supply']/6.30901964e-05 #unit conversion\n",
    "    return node_result\n",
    "\n",
    "def get_ave_defeciencies(demand_defeciencies,num_demand_nodes):\n",
    "    deficiencies = np.zeros(num_demand_nodes)\n",
    "    for demand_def in demand_defeciencies:\n",
    "        deficiencies+=demand_def\n",
    "    ave_def =  deficiencies/len(demand_defeciencies)\n",
    "    return ave_def[:-3]\n",
    "\n",
    "    \n",
    "def analyze_realization(nodes_result_paths):\n",
    "    demand_defeciencies= []\n",
    "    for node_result_path in nodes_result_paths:\n",
    "        node_result = read_node_result(node_result_path)\n",
    "\n",
    "        node_tot = pd.merge(node_result, node_info, on='node_id', how='inner', indicator=False)\n",
    "        demand_nodes = node_tot[node_tot['MM_2018_gp'] > 0]\n",
    "        \n",
    "        deficiency_ratio = get_deficiency_ratio(demand_nodes)\n",
    "        demand_defeciencies.append(deficiency_ratio)\n",
    "\n",
    "        low_pressure_node = get_low_pressure_nodes(node_tot)\n",
    "        lack_demand_nodes = get_lack_demand_nodes(low_pressure_node)\n",
    "\n",
    "#         print(\"num of low pressure nodes: \", len(low_pressure_node))\n",
    "#     #     print(\"num of demand nodes: \", sum(node_info['MM_2018_gp']>0))\n",
    "#         print(\"num of lack demand nodes: \", len(lack_demand_nodes))\n",
    "    ave_def = get_ave_defeciencies(demand_defeciencies,len(demand_nodes))\n",
    "    return ave_def\n",
    "    \n",
    "def show_result(demand_defeciencies,title):\n",
    "    criteria = (demand_defeciencies>3) & (demand_defeciencies<100)\n",
    "    qualified_def = demand_defeciencies[criteria]\n",
    "    plt.hist(qualified_def, bins=[3, 10, 20, 30, 40, 50, 60, 70, 80, 90, 100])  # arguments are passed to np.histogram\n",
    "    plt.xlabel('Demand Deficiency Rate (%)')\n",
    "    plt.ylabel('Number of Nodes')\n",
    "    plt.title(title+f'; nnodes: {len(qualified_def)}')\n",
    "    plt.show()\n",
    "    "
   ]
  },
  {
   "cell_type": "code",
   "execution_count": 17,
   "metadata": {},
   "outputs": [],
   "source": [
    "pz_name = 'central'\n",
    "pz_folder = '../data/processed_data/%s/'%(pz_name)\n",
    "node_info = gpd.read_file(pz_folder+'connected_nodes.geojson')\n",
    "case_paths = glob(save_base_path+'/im_rep*')"
   ]
  },
  {
   "cell_type": "code",
   "execution_count": 18,
   "metadata": {
    "scrolled": true
   },
   "outputs": [
    {
     "name": "stdout",
     "output_type": "stream",
     "text": [
      "../results/eq_results/im_rep47\n"
     ]
    }
   ],
   "source": [
    "case_names = []\n",
    "ave_defs = []\n",
    "for case_path in case_paths:\n",
    "    print (case_path)\n",
    "    nodes_result_paths = glob(case_path+'/im_sim_*_nodes.csv')\n",
    "    case_name = case_path.split('/')[-1]\n",
    "    demand_defeciencies = analyze_realization(nodes_result_paths)\n",
    "    \n",
    "    case_names.append(case_name) \n",
    "    ave_defs.append(demand_defeciencies)\n",
    "    \n",
    "#     show_result(demand_defeciencies,case_name)"
   ]
  },
  {
   "cell_type": "code",
   "execution_count": 19,
   "metadata": {},
   "outputs": [],
   "source": [
    "def get_low_pressure_nodes(node_tot):\n",
    "    pressure_m = (node_tot['head']-(0.3048*node_tot['elevation']))\n",
    "    # convert from m to psi \n",
    "    m_psi_const = 1.42197\n",
    "    pressure_psi = pressure_m*m_psi_const\n",
    "    node_tot['pressure'] = pressure_psi\n",
    "    low_pressure_cond = node_tot['pressure']<30\n",
    "    low_pressure_node = node_tot[low_pressure_cond]\n",
    "    return low_pressure_node\n",
    "\n",
    "def get_lack_demand_nodes(low_pressure_node):\n",
    "    deficiency_ratio = get_deficiency_ratio(low_pressure_node)\n",
    "    lack_demand_nodes = low_pressure_node[deficiency_ratio>0]\n",
    "    return lack_demand_nodes"
   ]
  },
  {
   "cell_type": "code",
   "execution_count": 21,
   "metadata": {},
   "outputs": [],
   "source": [
    "import warnings\n",
    "warnings.filterwarnings('ignore')\n",
    "\n",
    "lack_pressure_ratios = []\n",
    "lack_pressure_levels = []\n",
    "for case_path in case_paths:\n",
    "    nodes_result_paths = glob(case_path+'/im_sim_*_nodes.csv')\n",
    "    case_name = case_path.split('/')[-1]\n",
    "    \n",
    "    ratios = []\n",
    "    levels = []\n",
    "    for p in nodes_result_paths:\n",
    "        node_result = read_node_result(p)\n",
    "        node_tot = pd.merge(node_result, node_info, on='node_id', how='inner', indicator=False)\n",
    "        demand_nodes = node_tot[node_tot['MM_2018_gp'] > 0]\n",
    "        low_pressure_node = get_low_pressure_nodes(demand_nodes)\n",
    "        ratio = len(low_pressure_node)/len(demand_nodes)\n",
    "        ratios.append(ratio)\n",
    "        m = np.median(np.array(30-low_pressure_node['pressure']))\n",
    "        levels.append(m)\n",
    "    lack_pressure_ratios.append(np.mean(ratios)) \n",
    "    lack_pressure_levels.append(np.mean(levels))"
   ]
  },
  {
   "cell_type": "code",
   "execution_count": 22,
   "metadata": {},
   "outputs": [],
   "source": [
    "pressure_m = (node_tot['head']-(0.3048*low_pressure_node['elevation']))\n",
    "# convert from m to psi \n",
    "m_psi_const = 1.42197\n",
    "pressure_psi = pressure_m*m_psi_const\n",
    "low_pressure_node['pressure'] = pressure_psi"
   ]
  },
  {
   "cell_type": "code",
   "execution_count": 23,
   "metadata": {},
   "outputs": [
    {
     "data": {
      "text/html": [
       "<div>\n",
       "<style scoped>\n",
       "    .dataframe tbody tr th:only-of-type {\n",
       "        vertical-align: middle;\n",
       "    }\n",
       "\n",
       "    .dataframe tbody tr th {\n",
       "        vertical-align: top;\n",
       "    }\n",
       "\n",
       "    .dataframe thead th {\n",
       "        text-align: right;\n",
       "    }\n",
       "</style>\n",
       "<table border=\"1\" class=\"dataframe\">\n",
       "  <thead>\n",
       "    <tr style=\"text-align: right;\">\n",
       "      <th></th>\n",
       "      <th>node_id</th>\n",
       "      <th>head</th>\n",
       "      <th>supply</th>\n",
       "      <th>leak_discharge</th>\n",
       "      <th>longitude</th>\n",
       "      <th>latitude</th>\n",
       "      <th>MM_2018_gp</th>\n",
       "      <th>elevation</th>\n",
       "      <th>geometry</th>\n",
       "      <th>pressure</th>\n",
       "    </tr>\n",
       "  </thead>\n",
       "  <tbody>\n",
       "    <tr>\n",
       "      <th>6086</th>\n",
       "      <td>36657</td>\n",
       "      <td>52.518841</td>\n",
       "      <td>0.074228</td>\n",
       "      <td>0</td>\n",
       "      <td>-122.346996</td>\n",
       "      <td>37.994277</td>\n",
       "      <td>0.074228</td>\n",
       "      <td>104.36</td>\n",
       "      <td>POINT (-122.34700 37.99428)</td>\n",
       "      <td>29.448875</td>\n",
       "    </tr>\n",
       "    <tr>\n",
       "      <th>6344</th>\n",
       "      <td>37273</td>\n",
       "      <td>53.038475</td>\n",
       "      <td>0.370886</td>\n",
       "      <td>0</td>\n",
       "      <td>-122.345139</td>\n",
       "      <td>37.977602</td>\n",
       "      <td>0.470113</td>\n",
       "      <td>133.17</td>\n",
       "      <td>POINT (-122.34514 37.97760)</td>\n",
       "      <td>17.701051</td>\n",
       "    </tr>\n",
       "    <tr>\n",
       "      <th>9416</th>\n",
       "      <td>44260</td>\n",
       "      <td>51.834331</td>\n",
       "      <td>1.445529</td>\n",
       "      <td>0</td>\n",
       "      <td>-122.160170</td>\n",
       "      <td>37.752132</td>\n",
       "      <td>1.445529</td>\n",
       "      <td>103.23</td>\n",
       "      <td>POINT (-122.16017 37.75213)</td>\n",
       "      <td>28.965283</td>\n",
       "    </tr>\n",
       "    <tr>\n",
       "      <th>10230</th>\n",
       "      <td>45891</td>\n",
       "      <td>52.518839</td>\n",
       "      <td>0.173199</td>\n",
       "      <td>0</td>\n",
       "      <td>-122.347035</td>\n",
       "      <td>37.994152</td>\n",
       "      <td>0.173199</td>\n",
       "      <td>104.37</td>\n",
       "      <td>POINT (-122.34704 37.99415)</td>\n",
       "      <td>29.444538</td>\n",
       "    </tr>\n",
       "    <tr>\n",
       "      <th>11746</th>\n",
       "      <td>48514</td>\n",
       "      <td>50.656332</td>\n",
       "      <td>2.187992</td>\n",
       "      <td>0</td>\n",
       "      <td>-122.173759</td>\n",
       "      <td>37.728464</td>\n",
       "      <td>3.320228</td>\n",
       "      <td>137.70</td>\n",
       "      <td>POINT (-122.17376 37.72846)</td>\n",
       "      <td>12.350338</td>\n",
       "    </tr>\n",
       "    <tr>\n",
       "      <th>...</th>\n",
       "      <td>...</td>\n",
       "      <td>...</td>\n",
       "      <td>...</td>\n",
       "      <td>...</td>\n",
       "      <td>...</td>\n",
       "      <td>...</td>\n",
       "      <td>...</td>\n",
       "      <td>...</td>\n",
       "      <td>...</td>\n",
       "      <td>...</td>\n",
       "    </tr>\n",
       "    <tr>\n",
       "      <th>59010</th>\n",
       "      <td>166168</td>\n",
       "      <td>50.287765</td>\n",
       "      <td>0.298409</td>\n",
       "      <td>0</td>\n",
       "      <td>-122.286899</td>\n",
       "      <td>37.889186</td>\n",
       "      <td>0.301575</td>\n",
       "      <td>100.74</td>\n",
       "      <td>POINT (-122.28690 37.88919)</td>\n",
       "      <td>27.845320</td>\n",
       "    </tr>\n",
       "    <tr>\n",
       "      <th>59011</th>\n",
       "      <td>166169</td>\n",
       "      <td>50.287705</td>\n",
       "      <td>0.056273</td>\n",
       "      <td>0</td>\n",
       "      <td>-122.286101</td>\n",
       "      <td>37.889473</td>\n",
       "      <td>0.060315</td>\n",
       "      <td>107.87</td>\n",
       "      <td>POINT (-122.28610 37.88947)</td>\n",
       "      <td>24.754975</td>\n",
       "    </tr>\n",
       "    <tr>\n",
       "      <th>59024</th>\n",
       "      <td>166794</td>\n",
       "      <td>52.575774</td>\n",
       "      <td>1.014596</td>\n",
       "      <td>0</td>\n",
       "      <td>-122.315654</td>\n",
       "      <td>37.913580</td>\n",
       "      <td>1.048322</td>\n",
       "      <td>111.03</td>\n",
       "      <td>POINT (-122.31565 37.91358)</td>\n",
       "      <td>26.638944</td>\n",
       "    </tr>\n",
       "    <tr>\n",
       "      <th>59035</th>\n",
       "      <td>167324</td>\n",
       "      <td>50.288305</td>\n",
       "      <td>0.447222</td>\n",
       "      <td>0</td>\n",
       "      <td>-122.283344</td>\n",
       "      <td>37.875080</td>\n",
       "      <td>0.482520</td>\n",
       "      <td>108.62</td>\n",
       "      <td>POINT (-122.28334 37.87508)</td>\n",
       "      <td>24.430766</td>\n",
       "    </tr>\n",
       "    <tr>\n",
       "      <th>60037</th>\n",
       "      <td>181526</td>\n",
       "      <td>50.288791</td>\n",
       "      <td>0.638282</td>\n",
       "      <td>0</td>\n",
       "      <td>-122.287226</td>\n",
       "      <td>37.887895</td>\n",
       "      <td>0.676633</td>\n",
       "      <td>106.60</td>\n",
       "      <td>POINT (-122.28723 37.88789)</td>\n",
       "      <td>25.306958</td>\n",
       "    </tr>\n",
       "  </tbody>\n",
       "</table>\n",
       "<p>167 rows × 10 columns</p>\n",
       "</div>"
      ],
      "text/plain": [
       "       node_id       head    supply  leak_discharge   longitude   latitude  \\\n",
       "6086     36657  52.518841  0.074228               0 -122.346996  37.994277   \n",
       "6344     37273  53.038475  0.370886               0 -122.345139  37.977602   \n",
       "9416     44260  51.834331  1.445529               0 -122.160170  37.752132   \n",
       "10230    45891  52.518839  0.173199               0 -122.347035  37.994152   \n",
       "11746    48514  50.656332  2.187992               0 -122.173759  37.728464   \n",
       "...        ...        ...       ...             ...         ...        ...   \n",
       "59010   166168  50.287765  0.298409               0 -122.286899  37.889186   \n",
       "59011   166169  50.287705  0.056273               0 -122.286101  37.889473   \n",
       "59024   166794  52.575774  1.014596               0 -122.315654  37.913580   \n",
       "59035   167324  50.288305  0.447222               0 -122.283344  37.875080   \n",
       "60037   181526  50.288791  0.638282               0 -122.287226  37.887895   \n",
       "\n",
       "       MM_2018_gp  elevation                     geometry   pressure  \n",
       "6086     0.074228     104.36  POINT (-122.34700 37.99428)  29.448875  \n",
       "6344     0.470113     133.17  POINT (-122.34514 37.97760)  17.701051  \n",
       "9416     1.445529     103.23  POINT (-122.16017 37.75213)  28.965283  \n",
       "10230    0.173199     104.37  POINT (-122.34704 37.99415)  29.444538  \n",
       "11746    3.320228     137.70  POINT (-122.17376 37.72846)  12.350338  \n",
       "...           ...        ...                          ...        ...  \n",
       "59010    0.301575     100.74  POINT (-122.28690 37.88919)  27.845320  \n",
       "59011    0.060315     107.87  POINT (-122.28610 37.88947)  24.754975  \n",
       "59024    1.048322     111.03  POINT (-122.31565 37.91358)  26.638944  \n",
       "59035    0.482520     108.62  POINT (-122.28334 37.87508)  24.430766  \n",
       "60037    0.676633     106.60  POINT (-122.28723 37.88789)  25.306958  \n",
       "\n",
       "[167 rows x 10 columns]"
      ]
     },
     "execution_count": 23,
     "metadata": {},
     "output_type": "execute_result"
    }
   ],
   "source": [
    "low_pressure_node"
   ]
  },
  {
   "cell_type": "code",
   "execution_count": 24,
   "metadata": {},
   "outputs": [],
   "source": [
    "num_ld_nodes = []\n",
    "for demand_defeciencies in ave_defs:\n",
    "    criteria = (demand_defeciencies>0)\n",
    "    qualified_def = demand_defeciencies[criteria]\n",
    "    num_ld_nodes.append(len(qualified_def))"
   ]
  },
  {
   "cell_type": "code",
   "execution_count": 25,
   "metadata": {},
   "outputs": [
    {
     "data": {
      "text/plain": [
       "57"
      ]
     },
     "execution_count": 25,
     "metadata": {},
     "output_type": "execute_result"
    }
   ],
   "source": [
    "demand_node = np.array(node_info[node_info['MM_2018_gp']>0][:-3]['MM_2018_gp'])\n",
    "\n",
    "num_ld_nodes = []\n",
    "tot_water_shortage = []\n",
    "for demand_defeciencies in ave_defs:\n",
    "    criteria = (demand_defeciencies>5) & (demand_defeciencies<100)\n",
    "    qualified_def = demand_defeciencies[criteria]\n",
    "    num_ld_nodes.append(len(qualified_def))\n",
    "    shortage_amount = sum(np.array(demand_defeciencies)*demand_node)\n",
    "    tot_water_shortage.append(shortage_amount)\n",
    "max(num_ld_nodes)"
   ]
  },
  {
   "cell_type": "code",
   "execution_count": 26,
   "metadata": {},
   "outputs": [],
   "source": [
    "tot_demand = sum(node_info['MM_2018_gp'])\n",
    "shortage_ratio = np.array(tot_water_shortage)/tot_demand"
   ]
  },
  {
   "cell_type": "code",
   "execution_count": 27,
   "metadata": {},
   "outputs": [
    {
     "name": "stdout",
     "output_type": "stream",
     "text": [
      "number of failed pipes are : 159.0\n",
      "159.0 159.0 159.0\n"
     ]
    }
   ],
   "source": [
    "num_failed_pipes = []\n",
    "for case_name in case_names:\n",
    "    pipe_path = '/data/rupture/pipes/pipes_'+case_name+'.geojson'\n",
    "    pipe_info = gpd.read_file(pipe_path)\n",
    "    failed_pipes = fail_pipes_number(pipe_info)\n",
    "    num_failed_pipes.append(failed_pipes)\n",
    "print (min(num_failed_pipes),max(num_failed_pipes),np.mean(num_failed_pipes))"
   ]
  },
  {
   "cell_type": "code",
   "execution_count": 28,
   "metadata": {},
   "outputs": [],
   "source": [
    "num_large_pgv_pipes1 = []\n",
    "num_large_pgv_pipes2 = []\n",
    "\n",
    "pgv_thre1 = 30\n",
    "pgv_thre2 = 50\n",
    "\n",
    "for case_name in case_names:\n",
    "    pipe_path = '/data/rupture/pipes/pipes_'+case_name+'.geojson'\n",
    "    pipe_info = gpd.read_file(pipe_path)\n",
    "    num_large_move_pipes1 = len(pipe_info[pipe_info['pgv']>pgv_thre1])\n",
    "    num_large_move_pipes2 = len(pipe_info[pipe_info['pgv']>pgv_thre2])\n",
    "\n",
    "    num_large_pgv_pipes1.append(num_large_move_pipes1)\n",
    "    num_large_pgv_pipes2.append(num_large_move_pipes2)\n",
    "    "
   ]
  },
  {
   "cell_type": "code",
   "execution_count": 29,
   "metadata": {},
   "outputs": [],
   "source": [
    "df_im = pd.read_csv('/data/rupture/result/im_analysis.csv')\n",
    "r = np.array(num_ld_nodes)/len(demand_node)*100\n",
    "lack_pressure_ratios = np.array(lack_pressure_ratios)*100\n",
    "df_dict = {'Lack supply nodes ratio (%)' : r,\n",
    "           'Lack of pressure nodes ratio (%)' : lack_pressure_ratios,\n",
    "           'Mean pressure loss (PSI)' : lack_pressure_levels,\n",
    "           'case_name' : case_names,\n",
    "           'Pipe failure number': num_failed_pipes,\n",
    "           'Number of large PGV pipes (30 cm/s)':num_large_pgv_pipes1,\n",
    "           'Number of large PGV pipes (50 cm/s)':num_large_pgv_pipes2,\n",
    "          'Shortage Ratio (%)': shortage_ratio}\n",
    "\n",
    "df_leak = pd.DataFrame.from_dict(df_dict)\n",
    "df_merge = pd.merge(df_im, df_leak, on='case_name', how='inner', indicator=False)"
   ]
  },
  {
   "cell_type": "markdown",
   "metadata": {},
   "source": [
    "## Visualization"
   ]
  },
  {
   "cell_type": "code",
   "execution_count": 30,
   "metadata": {},
   "outputs": [
    {
     "data": {
      "text/plain": [
       "0.5632947684420008"
      ]
     },
     "execution_count": 30,
     "metadata": {},
     "output_type": "execute_result"
    }
   ],
   "source": [
    "np.mean(lack_pressure_ratios)"
   ]
  },
  {
   "cell_type": "code",
   "execution_count": 31,
   "metadata": {},
   "outputs": [
    {
     "data": {
      "text/plain": [
       "Text(0,0.5,'Number of Large PGV Value Pipes')"
      ]
     },
     "execution_count": 31,
     "metadata": {},
     "output_type": "execute_result"
    },
    {
     "data": {
      "image/png": "[encoded data removed]",
      "text/plain": [
       "<Figure size 432x288 with 1 Axes>"
      ]
     },
     "metadata": {
      "needs_background": "light"
     },
     "output_type": "display_data"
    }
   ],
   "source": [
    "plt.rcParams.update({'font.size': 12})\n",
    "ax0 = df_merge.plot(kind='scatter', x='Mean PGV (cm/s)', y='Number of large PGV pipes (30 cm/s)',\n",
    "                   label=\"PGV > 30 cm/s\")  \n",
    "ax0 = df_merge.plot(kind='scatter', x='Mean PGV (cm/s)', y='Number of large PGV pipes (50 cm/s)',\n",
    "                    color='r',ax=ax0,label=\"PGV > 50 cm/s\")  \n",
    "ax0.set_ylabel(\"Number of Large PGV Value Pipes\")\n",
    "\n",
    "# plt.savefig('../results/pgvonpipe.png',dpi=300, bbox_inches='tight')"
   ]
  },
  {
   "cell_type": "code",
   "execution_count": 32,
   "metadata": {},
   "outputs": [
    {
     "data": {
      "image/png": "[encoded data removed]",
      "text/plain": [
       "<Figure size 432x288 with 1 Axes>"
      ]
     },
     "metadata": {
      "needs_background": "light"
     },
     "output_type": "display_data"
    }
   ],
   "source": [
    "plt.rcParams.update({'font.size': 12})\n",
    "ax1 = df_merge.plot.scatter(x='Mean PGV (cm/s)',\n",
    "                      y='Lack supply nodes ratio (%)')\n",
    "# plt.savefig('../results/pgv_nodes.png',dpi=300, bbox_inches='tight')"
   ]
  },
  {
   "cell_type": "code",
   "execution_count": 33,
   "metadata": {},
   "outputs": [
    {
     "data": {
      "image/png": "[encoded data removed]",
      "text/plain": [
       "<Figure size 432x288 with 1 Axes>"
      ]
     },
     "metadata": {
      "needs_background": "light"
     },
     "output_type": "display_data"
    }
   ],
   "source": [
    "plt.rcParams.update({'font.size': 12})\n",
    "ax1 = df_merge.plot.scatter(x='Mean PGV (cm/s)',\n",
    "                      y='Lack of pressure nodes ratio (%)')\n",
    "# plt.savefig('../results/pressure_ratio.png',dpi=300, bbox_inches='tight')"
   ]
  },
  {
   "cell_type": "code",
   "execution_count": 34,
   "metadata": {},
   "outputs": [
    {
     "data": {
      "image/png": "[encoded data removed]",
      "text/plain": [
       "<Figure size 432x288 with 1 Axes>"
      ]
     },
     "metadata": {
      "needs_background": "light"
     },
     "output_type": "display_data"
    }
   ],
   "source": [
    "plt.rcParams.update({'font.size': 12})\n",
    "ax1 = df_merge.plot.scatter(x='Mean PGV (cm/s)',\n",
    "                      y='Mean pressure loss (PSI)')\n",
    "# plt.savefig('../results/pressure_loss_level.png',dpi=300, bbox_inches='tight')"
   ]
  },
  {
   "cell_type": "code",
   "execution_count": 35,
   "metadata": {},
   "outputs": [
    {
     "data": {
      "image/png": "[encoded data removed]",
      "text/plain": [
       "<Figure size 432x288 with 1 Axes>"
      ]
     },
     "metadata": {
      "needs_background": "light"
     },
     "output_type": "display_data"
    }
   ],
   "source": [
    "plt.rcParams.update({'font.size': 12})\n",
    "ax1 = df_merge.plot.scatter(x='Mean PGV (cm/s)',\n",
    "                      y='Lack of pressure nodes ratio (%)')\n"
   ]
  },
  {
   "cell_type": "code",
   "execution_count": 36,
   "metadata": {},
   "outputs": [
    {
     "data": {
      "image/png": "[encoded data removed]",
      "text/plain": [
       "<Figure size 432x288 with 1 Axes>"
      ]
     },
     "metadata": {
      "needs_background": "light"
     },
     "output_type": "display_data"
    }
   ],
   "source": [
    "ax2 = df_merge.plot.scatter(x='Mean PGV (cm/s)',\n",
    "                      y='Shortage Ratio (%)')\n",
    "# plt.savefig('../results/pgv_ratio.png',dpi=300, bbox_inches='tight')"
   ]
  },
  {
   "cell_type": "code",
   "execution_count": 37,
   "metadata": {},
   "outputs": [
    {
     "data": {
      "image/png": "[encoded data removed]",
      "text/plain": [
       "<Figure size 432x288 with 1 Axes>"
      ]
     },
     "metadata": {
      "needs_background": "light"
     },
     "output_type": "display_data"
    }
   ],
   "source": [
    "ax3 = df_merge.plot.scatter(x='Pipe failure number',\n",
    "                      y='Shortage Ratio (%)')\n",
    "# plt.savefig('../results/failed_pipe_shortage.png',dpi=300, bbox_inches='tight')"
   ]
  },
  {
   "cell_type": "code",
   "execution_count": 38,
   "metadata": {},
   "outputs": [
    {
     "data": {
      "image/png": "[encoded data removed]",
      "text/plain": [
       "<Figure size 432x288 with 1 Axes>"
      ]
     },
     "metadata": {
      "needs_background": "light"
     },
     "output_type": "display_data"
    }
   ],
   "source": [
    "ax4 = df_merge.plot.scatter(x='Mean PGV (cm/s)',\n",
    "                      y='Pipe failure number')\n",
    "# plt.savefig('../results/pgv_pipes.png',dpi=300, bbox_inches='tight')"
   ]
  },
  {
   "cell_type": "code",
   "execution_count": 39,
   "metadata": {},
   "outputs": [],
   "source": [
    "demand_nodes = node_info[node_info['MM_2018_gp']>0][:-3]"
   ]
  },
  {
   "cell_type": "code",
   "execution_count": 40,
   "metadata": {},
   "outputs": [
    {
     "data": {
      "text/html": [
       "<div>\n",
       "<style scoped>\n",
       "    .dataframe tbody tr th:only-of-type {\n",
       "        vertical-align: middle;\n",
       "    }\n",
       "\n",
       "    .dataframe tbody tr th {\n",
       "        vertical-align: top;\n",
       "    }\n",
       "\n",
       "    .dataframe thead th {\n",
       "        text-align: right;\n",
       "    }\n",
       "</style>\n",
       "<table border=\"1\" class=\"dataframe\">\n",
       "  <thead>\n",
       "    <tr style=\"text-align: right;\">\n",
       "      <th></th>\n",
       "      <th>node_id</th>\n",
       "      <th>longitude</th>\n",
       "      <th>latitude</th>\n",
       "      <th>MM_2018_gp</th>\n",
       "      <th>elevation</th>\n",
       "      <th>geometry</th>\n",
       "      <th>im_rep47_shrt_ratio</th>\n",
       "    </tr>\n",
       "  </thead>\n",
       "  <tbody>\n",
       "    <tr>\n",
       "      <th>6</th>\n",
       "      <td>28989</td>\n",
       "      <td>-122.231164</td>\n",
       "      <td>37.772601</td>\n",
       "      <td>0.126254</td>\n",
       "      <td>17.95</td>\n",
       "      <td>POINT (-122.23116 37.77260)</td>\n",
       "      <td>-2.453284e-08</td>\n",
       "    </tr>\n",
       "    <tr>\n",
       "      <th>8</th>\n",
       "      <td>28991</td>\n",
       "      <td>-122.230007</td>\n",
       "      <td>37.784708</td>\n",
       "      <td>0.580767</td>\n",
       "      <td>53.43</td>\n",
       "      <td>POINT (-122.23001 37.78471)</td>\n",
       "      <td>-1.608157e-08</td>\n",
       "    </tr>\n",
       "    <tr>\n",
       "      <th>13</th>\n",
       "      <td>29000</td>\n",
       "      <td>-122.300651</td>\n",
       "      <td>37.806628</td>\n",
       "      <td>4.281816</td>\n",
       "      <td>15.29</td>\n",
       "      <td>POINT (-122.30065 37.80663)</td>\n",
       "      <td>-2.569041e-08</td>\n",
       "    </tr>\n",
       "    <tr>\n",
       "      <th>20</th>\n",
       "      <td>29020</td>\n",
       "      <td>-122.363065</td>\n",
       "      <td>37.929458</td>\n",
       "      <td>0.368678</td>\n",
       "      <td>14.72</td>\n",
       "      <td>POINT (-122.36306 37.92946)</td>\n",
       "      <td>-2.771547e-08</td>\n",
       "    </tr>\n",
       "    <tr>\n",
       "      <th>25</th>\n",
       "      <td>29025</td>\n",
       "      <td>-122.299491</td>\n",
       "      <td>37.806373</td>\n",
       "      <td>0.240852</td>\n",
       "      <td>15.33</td>\n",
       "      <td>POINT (-122.29949 37.80637)</td>\n",
       "      <td>-2.577709e-08</td>\n",
       "    </tr>\n",
       "  </tbody>\n",
       "</table>\n",
       "</div>"
      ],
      "text/plain": [
       "    node_id   longitude   latitude  MM_2018_gp  elevation  \\\n",
       "6     28989 -122.231164  37.772601    0.126254      17.95   \n",
       "8     28991 -122.230007  37.784708    0.580767      53.43   \n",
       "13    29000 -122.300651  37.806628    4.281816      15.29   \n",
       "20    29020 -122.363065  37.929458    0.368678      14.72   \n",
       "25    29025 -122.299491  37.806373    0.240852      15.33   \n",
       "\n",
       "                       geometry  im_rep47_shrt_ratio  \n",
       "6   POINT (-122.23116 37.77260)        -2.453284e-08  \n",
       "8   POINT (-122.23001 37.78471)        -1.608157e-08  \n",
       "13  POINT (-122.30065 37.80663)        -2.569041e-08  \n",
       "20  POINT (-122.36306 37.92946)        -2.771547e-08  \n",
       "25  POINT (-122.29949 37.80637)        -2.577709e-08  "
      ]
     },
     "execution_count": 40,
     "metadata": {},
     "output_type": "execute_result"
    }
   ],
   "source": [
    "for deficiencies, case_name in zip(ave_defs,case_names):\n",
    "    col_name = case_name+'_shrt_ratio'\n",
    "    demand_nodes[col_name] = deficiencies\n",
    "    \n",
    "demand_nodes.head()"
   ]
  },
  {
   "cell_type": "code",
   "execution_count": 179,
   "metadata": {},
   "outputs": [],
   "source": [
    "# save_data_base_path = '../data/rupture/water_result/'\n",
    "\n",
    "# output_filename = save_data_base_path+'supply_shrt_ratio.geojson'\n",
    "# demand_nodes.to_file(output_filename, driver=\"GeoJSON\")"
   ]
  },
  {
   "cell_type": "code",
   "execution_count": null,
   "metadata": {},
   "outputs": [],
   "source": [
    "# demand_nodes['ave_deficiencies'] = deficiencies\n",
    "# demand_nodes = demand_nodes[demand_nodes['ave_deficiencies'] < 100]\n",
    "# demand_nodes = gpd.GeoDataFrame(demand_nodes)"
   ]
  },
  {
   "cell_type": "code",
   "execution_count": null,
   "metadata": {},
   "outputs": [],
   "source": [
    "# lack_demand_nodes = demand_nodes[demand_nodes['ave_deficiencies'] > 5]\n",
    "# len(lack_demand_nodes)"
   ]
  },
  {
   "cell_type": "code",
   "execution_count": null,
   "metadata": {},
   "outputs": [],
   "source": [
    "# output_filename = save_data_base_path+'demand_nodes.geojson'\n",
    "# demand_nodes.to_file(output_filename, driver=\"GeoJSON\")"
   ]
  },
  {
   "cell_type": "code",
   "execution_count": null,
   "metadata": {},
   "outputs": [],
   "source": [
    "# output_filename = save_data_base_path+'lack_demand_nodes.geojson'\n",
    "# lack_demand_nodes.to_file(output_filename, driver=\"GeoJSON\")"
   ]
  },
  {
   "cell_type": "markdown",
   "metadata": {},
   "source": [
    "## Specific Earthquake Scenario"
   ]
  },
  {
   "cell_type": "code",
   "execution_count": 235,
   "metadata": {},
   "outputs": [],
   "source": [
    "keep_cols = ['node_id','geometry','elevation','im_rep24_shrt_ratio']\n",
    "demand_rep24 = demand_nodes[keep_cols]\n",
    "shrt_rep24 = demand_rep24[demand_rep24['im_rep24_shrt_ratio'] > 3]\n",
    "shrt_rep24 = gpd.GeoDataFrame(shrt_rep24)\n",
    "\n",
    "output_filename = save_data_base_path+'supply_shrt_ratio_24.geojson'\n",
    "shrt_rep24.to_file(output_filename, driver=\"GeoJSON\")"
   ]
  },
  {
   "cell_type": "code",
   "execution_count": 237,
   "metadata": {},
   "outputs": [],
   "source": [
    "keep_cols = ['node_id','geometry','elevation','im_rep34_shrt_ratio']\n",
    "demand_rep34 = demand_nodes[keep_cols]\n",
    "shrt_rep34 = demand_rep34[demand_rep34['im_rep34_shrt_ratio'] > 3]\n",
    "shrt_rep34 = gpd.GeoDataFrame(shrt_rep34)\n",
    "\n",
    "output_filename = save_data_base_path+'supply_shrt_ratio_34.geojson'\n",
    "shrt_rep34.to_file(output_filename, driver=\"GeoJSON\")"
   ]
  },
  {
   "cell_type": "code",
   "execution_count": 243,
   "metadata": {},
   "outputs": [],
   "source": [
    "keep_cols = ['node_id','geometry','elevation','im_rep35_shrt_ratio']\n",
    "demand_rep35 = demand_nodes[keep_cols]\n",
    "shrt_rep35 = demand_rep35[demand_rep35['im_rep35_shrt_ratio'] > 3]\n",
    "shrt_rep35 = gpd.GeoDataFrame(shrt_rep35)\n",
    "\n",
    "output_filename = save_data_base_path+'supply_shrt_ratio_35.geojson'\n",
    "shrt_rep35.to_file(output_filename, driver=\"GeoJSON\")"
   ]
  },
  {
   "cell_type": "code",
   "execution_count": 320,
   "metadata": {},
   "outputs": [],
   "source": [
    "ave_defs = np.array(ave_defs)\n",
    "tot_mean = np.mean(ave_defs,axis=0)\n",
    "tot_std = np.std(ave_defs,axis=0)"
   ]
  },
  {
   "cell_type": "code",
   "execution_count": 333,
   "metadata": {},
   "outputs": [
    {
     "name": "stderr",
     "output_type": "stream",
     "text": [
      "/home/rewu/anaconda3/lib/python3.7/site-packages/ipykernel_launcher.py:3: SettingWithCopyWarning: \n",
      "A value is trying to be set on a copy of a slice from a DataFrame.\n",
      "Try using .loc[row_indexer,col_indexer] = value instead\n",
      "\n",
      "See the caveats in the documentation: http://pandas.pydata.org/pandas-docs/stable/indexing.html#indexing-view-versus-copy\n",
      "  This is separate from the ipykernel package so we can avoid doing imports until\n",
      "/home/rewu/anaconda3/lib/python3.7/site-packages/ipykernel_launcher.py:4: SettingWithCopyWarning: \n",
      "A value is trying to be set on a copy of a slice from a DataFrame.\n",
      "Try using .loc[row_indexer,col_indexer] = value instead\n",
      "\n",
      "See the caveats in the documentation: http://pandas.pydata.org/pandas-docs/stable/indexing.html#indexing-view-versus-copy\n",
      "  after removing the cwd from sys.path.\n",
      "/home/rewu/anaconda3/lib/python3.7/site-packages/ipykernel_launcher.py:5: SettingWithCopyWarning: \n",
      "A value is trying to be set on a copy of a slice from a DataFrame.\n",
      "Try using .loc[row_indexer,col_indexer] = value instead\n",
      "\n",
      "See the caveats in the documentation: http://pandas.pydata.org/pandas-docs/stable/indexing.html#indexing-view-versus-copy\n",
      "  \"\"\"\n"
     ]
    }
   ],
   "source": [
    "keep_cols = ['node_id','geometry']\n",
    "overall_result =  demand_nodes[keep_cols]\n",
    "overall_result['ave_shrt_mean'] = tot_mean\n",
    "overall_result['ave_shrt_std'] = tot_std\n",
    "overall_result['ave_shrt_std_relative'] = tot_std/tot_mean*100\n",
    "\n",
    "overall_result = gpd.GeoDataFrame(overall_result)\n",
    "\n",
    "output_filename = save_data_base_path+'overall_shrt.geojson'\n",
    "overall_result.to_file(output_filename, driver=\"GeoJSON\")\n"
   ]
  },
  {
   "cell_type": "code",
   "execution_count": 330,
   "metadata": {},
   "outputs": [
    {
     "data": {
      "text/plain": [
       "0.6942382944272028"
      ]
     },
     "execution_count": 330,
     "metadata": {},
     "output_type": "execute_result"
    }
   ],
   "source": [
    "sum(overall_result['ave_shrt_mean']<3)/len(overall_result)"
   ]
  },
  {
   "cell_type": "code",
   "execution_count": 331,
   "metadata": {},
   "outputs": [],
   "source": []
  },
  {
   "cell_type": "code",
   "execution_count": null,
   "metadata": {},
   "outputs": [],
   "source": []
  }
 ],
 "metadata": {
  "kernelspec": {
   "display_name": "Python 3",
   "language": "python",
   "name": "python3"
  },
  "language_info": {
   "codemirror_mode": {
    "name": "ipython",
    "version": 3
   },
   "file_extension": ".py",
   "mimetype": "text/x-python",
   "name": "python",
   "nbconvert_exporter": "python",
   "pygments_lexer": "ipython3",
   "version": "3.7.10"
  }
 },
 "nbformat": 4,
 "nbformat_minor": 2
}
